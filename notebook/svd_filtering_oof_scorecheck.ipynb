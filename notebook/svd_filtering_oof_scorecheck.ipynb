{
 "cells": [
  {
   "cell_type": "code",
   "execution_count": 1,
   "metadata": {},
   "outputs": [],
   "source": [
    "import os\n",
    "\n",
    "import pandas as pd\n",
    "import numpy as np\n",
    "from surprise import Dataset, Reader, SVD\n",
    "from surprise.model_selection import cross_validate\n",
    "\n",
    "from sklearn.model_selection import StratifiedGroupKFold "
   ]
  },
  {
   "cell_type": "code",
   "execution_count": 2,
   "metadata": {},
   "outputs": [],
   "source": [
    "EXP_NAME = \"svd_filtering_oof\"\n",
    "class configs:\n",
    "    OUTPUT_DIR = os.path.join(\"/workspace\", \"working\", EXP_NAME)\n",
    "    INPUT_DIR = os.path.join(\"/workspace\", \"input\", \"atmaCup15_dataset\")\n",
    "    TRAIN_CSV = os.path.join(INPUT_DIR, \"train_stratifiedgroupkfold.csv\")\n",
    "    ANIME_CSV = os.path.join(INPUT_DIR, \"anime.csv\")\n",
    "    TEST_CSV = os.path.join(INPUT_DIR, \"test.csv\")\n",
    "    SAMPLE_SUB_CSV = os.path.join(INPUT_DIR, \"sample_submission.csv\")\n",
    "    SEED = 42"
   ]
  },
  {
   "cell_type": "code",
   "execution_count": 3,
   "metadata": {},
   "outputs": [
    {
     "name": "stdout",
     "output_type": "stream",
     "text": [
      "fold 0\n",
      "fold 1\n",
      "fold 2\n",
      "fold 3\n",
      "fold 4\n"
     ]
    }
   ],
   "source": [
    "# Load the dataset\n",
    "train_df = pd.read_csv(os.path.join(configs.INPUT_DIR, \"train_stratifiedgroupkfold.csv\"))\n",
    "reader = Reader(rating_scale=(1, 10))\n",
    "\n",
    "models = []\n",
    "for fold in sorted(train_df[\"fold\"].unique()):\n",
    "    print(\"fold\", fold)\n",
    "    train_df_ = train_df[train_df[\"fold\"] != fold].reset_index(drop=True)\n",
    "    train_data = Dataset.load_from_df(train_df_[['user_id', 'anime_id', 'score']], reader)\n",
    "    model = SVD()\n",
    "    model.fit(train_data.build_full_trainset())\n",
    "    models.append(model)"
   ]
  },
  {
   "cell_type": "code",
   "execution_count": 5,
   "metadata": {},
   "outputs": [
    {
     "name": "stdout",
     "output_type": "stream",
     "text": [
      "53834\n",
      "81742\n",
      "107323\n",
      "136401\n"
     ]
    }
   ],
   "source": [
    "oof_df = pd.DataFrame()\n",
    "for fold, model in enumerate(models):\n",
    "    test_df_ = train_df[train_df[\"fold\"] == fold].reset_index(drop=True)\n",
    "    test_data = Dataset.load_from_df(test_df_[['user_id', 'anime_id', 'score']], reader)\n",
    "    oof_pred = model.test(test_data.build_full_trainset().build_testset())\n",
    "    pred = [pred.est for pred in oof_pred]\n",
    "    # predictions.extend(oof_pred)\n",
    "    if len(oof_df)==0:\n",
    "        test_df_[\"svd\"] = pred\n",
    "        oof_df = test_df_\n",
    "    else:\n",
    "        test_df_[\"svd\"] = pred\n",
    "        oof_df = pd.concat([oof_df, test_df_], axis=0)\n",
    "        print(len(oof_df))"
   ]
  },
  {
   "cell_type": "code",
   "execution_count": 6,
   "metadata": {},
   "outputs": [
    {
     "data": {
      "text/plain": [
       "(136401, 136401)"
      ]
     },
     "execution_count": 6,
     "metadata": {},
     "output_type": "execute_result"
    }
   ],
   "source": [
    "len(train_df), len(oof_df)"
   ]
  },
  {
   "cell_type": "code",
   "execution_count": 7,
   "metadata": {},
   "outputs": [
    {
     "data": {
      "text/html": [
       "<div>\n",
       "<style scoped>\n",
       "    .dataframe tbody tr th:only-of-type {\n",
       "        vertical-align: middle;\n",
       "    }\n",
       "\n",
       "    .dataframe tbody tr th {\n",
       "        vertical-align: top;\n",
       "    }\n",
       "\n",
       "    .dataframe thead th {\n",
       "        text-align: right;\n",
       "    }\n",
       "</style>\n",
       "<table border=\"1\" class=\"dataframe\">\n",
       "  <thead>\n",
       "    <tr style=\"text-align: right;\">\n",
       "      <th></th>\n",
       "      <th>user_id</th>\n",
       "      <th>anime_id</th>\n",
       "      <th>score</th>\n",
       "      <th>fold</th>\n",
       "      <th>svd</th>\n",
       "    </tr>\n",
       "  </thead>\n",
       "  <tbody>\n",
       "    <tr>\n",
       "      <th>0</th>\n",
       "      <td>019123288497ea8ee320</td>\n",
       "      <td>041995f3f394ba00c88c</td>\n",
       "      <td>8</td>\n",
       "      <td>0</td>\n",
       "      <td>8.209877</td>\n",
       "    </tr>\n",
       "    <tr>\n",
       "      <th>1</th>\n",
       "      <td>019123288497ea8ee320</td>\n",
       "      <td>041b0c10ba571cdea336</td>\n",
       "      <td>7</td>\n",
       "      <td>0</td>\n",
       "      <td>8.553147</td>\n",
       "    </tr>\n",
       "    <tr>\n",
       "      <th>2</th>\n",
       "      <td>019123288497ea8ee320</td>\n",
       "      <td>057c8610088179f68964</td>\n",
       "      <td>7</td>\n",
       "      <td>0</td>\n",
       "      <td>8.764891</td>\n",
       "    </tr>\n",
       "    <tr>\n",
       "      <th>3</th>\n",
       "      <td>019123288497ea8ee320</td>\n",
       "      <td>07e58cea0afab8d25b72</td>\n",
       "      <td>8</td>\n",
       "      <td>0</td>\n",
       "      <td>7.608954</td>\n",
       "    </tr>\n",
       "    <tr>\n",
       "      <th>4</th>\n",
       "      <td>019123288497ea8ee320</td>\n",
       "      <td>08aaefd0726338c6cda6</td>\n",
       "      <td>9</td>\n",
       "      <td>0</td>\n",
       "      <td>8.637989</td>\n",
       "    </tr>\n",
       "    <tr>\n",
       "      <th>...</th>\n",
       "      <td>...</td>\n",
       "      <td>...</td>\n",
       "      <td>...</td>\n",
       "      <td>...</td>\n",
       "      <td>...</td>\n",
       "    </tr>\n",
       "    <tr>\n",
       "      <th>29073</th>\n",
       "      <td>fe9c772c995668ea3b75</td>\n",
       "      <td>f2257ee9d3a0ea6906c7</td>\n",
       "      <td>7</td>\n",
       "      <td>4</td>\n",
       "      <td>8.023649</td>\n",
       "    </tr>\n",
       "    <tr>\n",
       "      <th>29074</th>\n",
       "      <td>fe9c772c995668ea3b75</td>\n",
       "      <td>f4c85e7df7a0a1ef141b</td>\n",
       "      <td>9</td>\n",
       "      <td>4</td>\n",
       "      <td>8.567615</td>\n",
       "    </tr>\n",
       "    <tr>\n",
       "      <th>29075</th>\n",
       "      <td>fe9c772c995668ea3b75</td>\n",
       "      <td>f81231bddc60c928c2a2</td>\n",
       "      <td>8</td>\n",
       "      <td>4</td>\n",
       "      <td>7.712358</td>\n",
       "    </tr>\n",
       "    <tr>\n",
       "      <th>29076</th>\n",
       "      <td>fe9c772c995668ea3b75</td>\n",
       "      <td>fc4ee74b1a05a70653c9</td>\n",
       "      <td>6</td>\n",
       "      <td>4</td>\n",
       "      <td>7.308886</td>\n",
       "    </tr>\n",
       "    <tr>\n",
       "      <th>29077</th>\n",
       "      <td>fe9c772c995668ea3b75</td>\n",
       "      <td>fe8cbf618b1915ea57f5</td>\n",
       "      <td>7</td>\n",
       "      <td>4</td>\n",
       "      <td>7.753260</td>\n",
       "    </tr>\n",
       "  </tbody>\n",
       "</table>\n",
       "<p>136401 rows × 5 columns</p>\n",
       "</div>"
      ],
      "text/plain": [
       "                    user_id              anime_id  score  fold       svd\n",
       "0      019123288497ea8ee320  041995f3f394ba00c88c      8     0  8.209877\n",
       "1      019123288497ea8ee320  041b0c10ba571cdea336      7     0  8.553147\n",
       "2      019123288497ea8ee320  057c8610088179f68964      7     0  8.764891\n",
       "3      019123288497ea8ee320  07e58cea0afab8d25b72      8     0  7.608954\n",
       "4      019123288497ea8ee320  08aaefd0726338c6cda6      9     0  8.637989\n",
       "...                     ...                   ...    ...   ...       ...\n",
       "29073  fe9c772c995668ea3b75  f2257ee9d3a0ea6906c7      7     4  8.023649\n",
       "29074  fe9c772c995668ea3b75  f4c85e7df7a0a1ef141b      9     4  8.567615\n",
       "29075  fe9c772c995668ea3b75  f81231bddc60c928c2a2      8     4  7.712358\n",
       "29076  fe9c772c995668ea3b75  fc4ee74b1a05a70653c9      6     4  7.308886\n",
       "29077  fe9c772c995668ea3b75  fe8cbf618b1915ea57f5      7     4  7.753260\n",
       "\n",
       "[136401 rows x 5 columns]"
      ]
     },
     "execution_count": 7,
     "metadata": {},
     "output_type": "execute_result"
    }
   ],
   "source": [
    "oof_df\n"
   ]
  },
  {
   "cell_type": "code",
   "execution_count": 10,
   "metadata": {},
   "outputs": [],
   "source": [
    "from sklearn.metrics import mean_squared_error\n",
    "def root_mean_squared_error(y_true, y_pred):\n",
    "    \"\"\"mean_squared_error の root (0.5乗)\"\"\"\n",
    "    return mean_squared_error(y_true, y_pred) ** .5"
   ]
  },
  {
   "cell_type": "code",
   "execution_count": 13,
   "metadata": {},
   "outputs": [
    {
     "name": "stdout",
     "output_type": "stream",
     "text": [
      "1.4415288431234647\n"
     ]
    }
   ],
   "source": [
    "rmse = root_mean_squared_error(oof_df[\"score\"], oof_df[\"svd\"])\n",
    "print(rmse)"
   ]
  },
  {
   "cell_type": "code",
   "execution_count": null,
   "metadata": {},
   "outputs": [],
   "source": []
  }
 ],
 "metadata": {
  "kernelspec": {
   "display_name": "base",
   "language": "python",
   "name": "python3"
  },
  "language_info": {
   "codemirror_mode": {
    "name": "ipython",
    "version": 3
   },
   "file_extension": ".py",
   "mimetype": "text/x-python",
   "name": "python",
   "nbconvert_exporter": "python",
   "pygments_lexer": "ipython3",
   "version": "3.10.10"
  },
  "orig_nbformat": 4
 },
 "nbformat": 4,
 "nbformat_minor": 2
}
