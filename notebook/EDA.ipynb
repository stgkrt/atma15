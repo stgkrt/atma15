{
 "cells": [
  {
   "cell_type": "code",
   "execution_count": 15,
   "metadata": {},
   "outputs": [],
   "source": [
    "import os\n",
    "\n",
    "import pandas as pd"
   ]
  },
  {
   "cell_type": "code",
   "execution_count": 16,
   "metadata": {},
   "outputs": [],
   "source": [
    "class config:\n",
    "    INPUT_DIR = os.path.join(\"/workspace\", \"input\", \"atmaCup15_dataset\")"
   ]
  },
  {
   "cell_type": "markdown",
   "metadata": {},
   "source": [
    "# anime csv"
   ]
  },
  {
   "cell_type": "code",
   "execution_count": 17,
   "metadata": {},
   "outputs": [],
   "source": [
    "anime_df = pd.read_csv(os.path.join(config.INPUT_DIR, \"anime.csv\"))"
   ]
  },
  {
   "cell_type": "code",
   "execution_count": 18,
   "metadata": {},
   "outputs": [
    {
     "data": {
      "text/plain": [
       "Index(['anime_id', 'genres', 'japanese_name', 'type', 'episodes', 'aired',\n",
       "       'producers', 'licensors', 'studios', 'source', 'duration', 'rating',\n",
       "       'members', 'watching', 'completed', 'on_hold', 'dropped',\n",
       "       'plan_to_watch'],\n",
       "      dtype='object')"
      ]
     },
     "execution_count": 18,
     "metadata": {},
     "output_type": "execute_result"
    }
   ],
   "source": [
    "anime_df.columns"
   ]
  },
  {
   "cell_type": "code",
   "execution_count": 19,
   "metadata": {},
   "outputs": [
    {
     "name": "stdout",
     "output_type": "stream",
     "text": [
      "column =  anime_id\n"
     ]
    },
    {
     "data": {
      "text/plain": [
       "array(['000ba7f7e34e107e7544', '00427279d72064e7fb69',\n",
       "       '00444b67aaabdf740a68', ..., 'ffa143ffd4abec9d2707',\n",
       "       'ffb4819df40db39facfa', 'ffc3cf0c5f60dd844611'], dtype=object)"
      ]
     },
     "metadata": {},
     "output_type": "display_data"
    },
    {
     "name": "stdout",
     "output_type": "stream",
     "text": [
      "2000\n",
      "column =  genres\n"
     ]
    },
    {
     "data": {
      "text/plain": [
       "array(['Comedy, Sci-Fi, Seinen, Slice of Life, Space',\n",
       "       'Adventure, Slice of Life, Mystery, Historical, Supernatural, Fantasy, Seinen',\n",
       "       'Comedy, Ecchi, Fantasy, School', ...,\n",
       "       'Action, Fantasy, Military, Sci-Fi',\n",
       "       'Action, Adventure, Fantasy, School, Sci-Fi',\n",
       "       'Action, Mecha, Romance, Super Power, Supernatural, Sci-Fi'],\n",
       "      dtype=object)"
      ]
     },
     "metadata": {},
     "output_type": "display_data"
    },
    {
     "name": "stdout",
     "output_type": "stream",
     "text": [
      "1329\n",
      "column =  japanese_name\n"
     ]
    },
    {
     "data": {
      "text/plain": [
       "array(['宇宙兄弟', '蟲師', '蟲師 続章', ..., 'GOD EATER', '鋼殻のレギオス', '創聖のアクエリオン'],\n",
       "      dtype=object)"
      ]
     },
     "metadata": {},
     "output_type": "display_data"
    },
    {
     "name": "stdout",
     "output_type": "stream",
     "text": [
      "1931\n",
      "column =  type\n"
     ]
    },
    {
     "data": {
      "text/plain": [
       "array(['TV', 'Special', 'Movie', 'Unknown', 'ONA', 'OVA', 'Music'],\n",
       "      dtype=object)"
      ]
     },
     "metadata": {},
     "output_type": "display_data"
    },
    {
     "name": "stdout",
     "output_type": "stream",
     "text": [
      "7\n",
      "column =  episodes\n"
     ]
    },
    {
     "data": {
      "text/plain": [
       "array(['99', '26', '10', '12', '13', '127', '24', '52', '1', 'Unknown',\n",
       "       '22', '201', '5', '6', '25', '43', '39', '175', '3', '50', '51',\n",
       "       '191', '2', '110', '114', '8', '11', '69', '14', '76', '178', '46',\n",
       "       '145', '21', '167', '180', '23', '170', '48', '84', '4', '112',\n",
       "       '34', '62', '93', '16', '7', '45', '15', '366', '131', '78', '18',\n",
       "       '9', '161', '40', '291', '38', '61', '153', '49', '224', '75',\n",
       "       '192', '47', '36', '154', '150', '500', '74', '101', '54', '203',\n",
       "       '77', '148', '146', '20', '73', '102', '103', '276', '37', '64',\n",
       "       '27', '97', '19', '94', '60', '220', '147', '100', '70', '109',\n",
       "       '120', '128'], dtype=object)"
      ]
     },
     "metadata": {},
     "output_type": "display_data"
    },
    {
     "name": "stdout",
     "output_type": "stream",
     "text": [
      "95\n",
      "column =  aired\n"
     ]
    },
    {
     "data": {
      "text/plain": [
       "array(['Apr 1, 2012 to Mar 22, 2014', 'Oct 23, 2005 to Jun 19, 2006',\n",
       "       'Apr 5, 2014 to Jun 21, 2014', ..., 'Oct 8, 2020 to Dec 31, 2020',\n",
       "       'Jul 12, 2015 to Mar 26, 2016', 'Jan 11, 2009 to Jun 21, 2009'],\n",
       "      dtype=object)"
      ]
     },
     "metadata": {},
     "output_type": "display_data"
    },
    {
     "name": "stdout",
     "output_type": "stream",
     "text": [
      "1653\n",
      "column =  producers\n"
     ]
    },
    {
     "data": {
      "text/plain": [
       "array(['Aniplex, Dentsu, YTV, Trinity Sound',\n",
       "       'Avex Entertainment, Marvelous, SKY Perfect Well Think, Delfi Sound',\n",
       "       'Aniplex, Kodansha, Delfi Sound', ...,\n",
       "       'TBS, Enterbrain, BS-TBS, RAY',\n",
       "       'Bandai Visual, Lantis, Anime Consortium Japan',\n",
       "       'Media Factory, Bandai, Tohokushinsha Film Corporation'],\n",
       "      dtype=object)"
      ]
     },
     "metadata": {},
     "output_type": "display_data"
    },
    {
     "name": "stdout",
     "output_type": "stream",
     "text": [
      "1405\n",
      "column =  licensors\n"
     ]
    },
    {
     "data": {
      "text/plain": [
       "array(['Sentai Filmworks', 'Funimation', 'Aniplex of America',\n",
       "       'Funimation, Geneon Entertainment USA', 'Unknown', 'VIZ Media',\n",
       "       'Geneon Entertainment USA', 'Discotek Media',\n",
       "       'Sentai Filmworks, Crunchyroll',\n",
       "       'ADV Films, VIZ Media, DiC Entertainment',\n",
       "       'Funimation, Crunchyroll', 'Media Blasters',\n",
       "       'Bandai Entertainment', 'Bandai Entertainment, Aniplex of America',\n",
       "       'Funimation, Aniplex of America', 'Walt Disney Studios',\n",
       "       '4Kids Entertainment, Miramax Films',\n",
       "       'VIZ Media, 4Kids Entertainment', 'NIS America, Inc.',\n",
       "       'ADV Films, Sentai Filmworks',\n",
       "       'VIZ Media, The Pokemon Company International',\n",
       "       'Nozomi Entertainment', 'NYAV Post, GKIDS',\n",
       "       'Nelvana, Discotek Media', 'Funimation, Bandai Entertainment',\n",
       "       'Bandai Entertainment, Sentai Filmworks, Discotek Media',\n",
       "       'The Pokemon Company International',\n",
       "       'ADV Films, DiC Entertainment, Flatiron Film Company',\n",
       "       'Ponycan USA', 'Bandai Entertainment, NYAV Post',\n",
       "       'Funimation, Kadokawa Pictures USA',\n",
       "       'Funimation, Discotek Media, Geneon Entertainment USA',\n",
       "       'Funimation, Bandai Entertainment, Kadokawa Pictures USA',\n",
       "       'Walt Disney Studios, GKIDS', 'VIZ Media, Sentai Filmworks',\n",
       "       'Discotek Media, Geneon Entertainment USA', 'Shout! Factory',\n",
       "       'VIZ Media, Discotek Media', 'Crunchyroll',\n",
       "       'Discotek Media, Crunchyroll',\n",
       "       'Nozomi Entertainment, Media Blasters', 'VIZ Media, NYAV Post',\n",
       "       'Nozomi Entertainment, Bandai Entertainment',\n",
       "       'Saban Entertainment, Flatiron Film Company', 'Maiden Japan',\n",
       "       '4Kids Entertainment, Flatiron Film Company',\n",
       "       'ADV Films, Funimation',\n",
       "       'Bandai Entertainment, Sentai Filmworks, NYAV Post', 'ADV Films',\n",
       "       'Flatiron Film Company', 'Bandai Visual USA',\n",
       "       'Funimation, Synch-Point', 'Netflix',\n",
       "       'Discotek Media, Bandai Visual USA', 'Media Blasters, NYAV Post',\n",
       "       'Sentai Filmworks, Manga Entertainment', 'Funimation, Tokyopop',\n",
       "       'Media Blasters, Discotek Media', 'GKIDS',\n",
       "       'Media Blasters, Discotek Media, Tokyopop',\n",
       "       'ADV Films, Aniplex of America',\n",
       "       'Funimation, Bandai Entertainment, Geneon Entertainment USA',\n",
       "       'Super Techno Arts', 'Warner Bros. Japan', 'NYAV Post',\n",
       "       'Funimation, Sentai Filmworks',\n",
       "       'Nozomi Entertainment, Discotek Media',\n",
       "       'Bandai Entertainment, Discotek Media, Bandai Visual USA',\n",
       "       'Discotek Media, Manga Entertainment', '4Kids Entertainment',\n",
       "       'GKIDS, Manga Entertainment', 'Sony Pictures Entertainment',\n",
       "       'Kadokawa Pictures USA', 'Saban Entertainment',\n",
       "       'Bandai Entertainment, Manga Entertainment',\n",
       "       'VIZ Media, Media Blasters, Sentai Filmworks, Geneon Entertainment USA',\n",
       "       'ADV Films, Bandai Entertainment, Discotek Media, Crunchyroll',\n",
       "       'ADV Films, Sentai Filmworks, Discotek Media',\n",
       "       'Funimation, NYAV Post', 'NIS America, Inc., Aniplex of America',\n",
       "       'Bandai Entertainment, Sentai Filmworks',\n",
       "       'Funimation, Warner Bros. Japan, GKIDS',\n",
       "       'Discotek Media, Urban Vision', 'feel.',\n",
       "       'Sentai Filmworks, Geneon Entertainment USA',\n",
       "       'Manga Entertainment',\n",
       "       'VIZ Media, 4Kids Entertainment, The Pokemon Company International',\n",
       "       'Aniplex of America, Crunchyroll',\n",
       "       'Sony Pictures Entertainment, Discotek Media',\n",
       "       'ADV Films, Discotek Media',\n",
       "       'Nozomi Entertainment, Central Park Media', 'ADV Films, AnimEigo',\n",
       "       'Sony Pictures Entertainment, GKIDS',\n",
       "       '4Kids Entertainment, Warner Bros. Japan', 'Central Park Media',\n",
       "       'Discotek Media, Tokyopop', 'VIZ Media, Geneon Entertainment USA',\n",
       "       'VIZ Media, Flatiron Film Company', 'Pied Piper',\n",
       "       'Sentai Filmworks, Ponycan USA',\n",
       "       'Nozomi Entertainment, Crimson Star Media',\n",
       "       'Funimation, Manga Entertainment',\n",
       "       'Flatiron Film Company, Geneon Entertainment USA',\n",
       "       'Warner Bros. Pictures',\n",
       "       'Funimation, Central Park Media, Enoki Films',\n",
       "       'Nozomi Entertainment, Bandai Entertainment, NYAV Post',\n",
       "       'ADV Films, Central Park Media, Sentai Filmworks',\n",
       "       'Sentai Filmworks, Urban Vision',\n",
       "       'ADV Films, Funimation, Kadokawa Pictures USA',\n",
       "       'Discotek Media, Ponycan USA', 'Eleven Arts, NYAV Post',\n",
       "       'Bandai, Sentai Filmworks', 'Bandai Entertainment, Discotek Media',\n",
       "       'Tokyopop', 'Anchor Bay Films',\n",
       "       'ADV Films, Bandai Entertainment, Aniplex of America',\n",
       "       'Nelvana, Discotek Media, Geneon Entertainment USA',\n",
       "       'NYAV Post, Pied Piper',\n",
       "       'Funimation, Sentai Filmworks, Geneon Entertainment USA',\n",
       "       'Media Blasters, Geneon Entertainment USA',\n",
       "       'ADV Films, Media Blasters, Discotek Media',\n",
       "       'Eleven Arts, Shout! Factory',\n",
       "       'Funimation, NBCUniversal Entertainment Japan',\n",
       "       'Funimation, 4Kids Entertainment', 'Funimation, Discotek Media',\n",
       "       'Nelvana, NIS America, Inc., Geneon Entertainment USA',\n",
       "       'Media Blasters, Sentai Filmworks',\n",
       "       'Funimation, Discotek Media, Crunchyroll',\n",
       "       'Eleven Arts, DreamWorks', 'VIZ Media, Warner Bros. Pictures',\n",
       "       'ADV Films, Netflix',\n",
       "       'Aniplex of America, Geneon Entertainment USA',\n",
       "       '4Kids Entertainment, Warner Bros. Pictures',\n",
       "       'Eleven Arts, Ponycan USA'], dtype=object)"
      ]
     },
     "metadata": {},
     "output_type": "display_data"
    },
    {
     "name": "stdout",
     "output_type": "stream",
     "text": [
      "134\n",
      "column =  studios\n"
     ]
    },
    {
     "data": {
      "text/plain": [
       "array(['A-1 Pictures', 'Artland', 'C-Station', 'AIC', 'feel.', 'ufotable',\n",
       "       'OLM', 'Gonzo', '8bit', 'Studio Deen', 'MAPPA, Studio VOLN',\n",
       "       'Madhouse', 'Lay-duce', 'Polygon Pictures', 'Unknown', 'Ezόla',\n",
       "       'Diomedéa', 'Geno Studio', 'AIC, Remic', 'Bones', 'Lerche',\n",
       "       'MAPPA', 'SILVER LINK.', 'Sunrise', 'Kyoto Animation, Sunrise',\n",
       "       'David Production', 'Kinema Citrus', 'GoHands', 'Production I.G',\n",
       "       'Toei Animation', 'Doga Kobo', 'Satelight', 'Madhouse, Imagin',\n",
       "       'CoMix Wave Films', 'Trigger', 'Manglobe',\n",
       "       'Satelight, A-1 Pictures', 'TNK', 'ixtl, LIDENFILMS',\n",
       "       \"Brain's Base\", 'SynergySP', 'Studio Ghibli', 'White Fox',\n",
       "       'Studio Gokumi, AXsiZ', 'Group TAC', 'LIDENFILMS',\n",
       "       'Artland, Magic Bus', 'Zexcs', 'J.C.Staff', 'CygamesPictures',\n",
       "       'Wit Studio', 'P.A. Works', 'Tezuka Productions, Okuruto Noboru',\n",
       "       'Signal.MD', 'MAPPA, Lapin Track', 'NAZ, Magia Doraglier',\n",
       "       'Shin-Ei Animation', 'Imagin', 'Studio Pierrot, Pierrot Plus',\n",
       "       'Arms', 'Gainax, J.C.Staff', 'Studio Pierrot', 'Science SARU',\n",
       "       'Asahi Production', 'Kyoto Animation', 'Xebec',\n",
       "       'Barnum Studio, Project No.9', 'Xebec, AIC', 'Graphinica',\n",
       "       'Gainax, feel.', 'Production I.G, Xebec', 'Asread', 'Shaft',\n",
       "       'Khara', 'EKACHI EPILKA', 'Studio Gokumi',\n",
       "       \"Brain's Base, Platinum Vision\", 'AIC Build', 'AIC Spirits',\n",
       "       'TMS Entertainment', 'Gainax', 'Nippon Animation',\n",
       "       'Gainax, Asahi Production', 'Trans Arts', 'EMT Squared',\n",
       "       'Hoods Drifters Studio', 'Madhouse, TMS Entertainment', 'Gallop',\n",
       "       'Haoliners Animation League', 'Tatsunoko Production', 'Daume',\n",
       "       'Shuka', 'Hoods Entertainment, teamKG', 'Hoods Entertainment',\n",
       "       'A-1 Pictures, Lapin Track', 'Sugar Boy, Blue Cat',\n",
       "       'Ordet, SANZIGEN', 'Pierrot Plus', 'SANZIGEN', 'TYO Animations',\n",
       "       'Production Reed', 'Passione', 'Studio Pierrot, Studio Hibari',\n",
       "       'Studio Comet', 'Platinum Vision', 'SANZIGEN, LIDENFILMS', 'Actas',\n",
       "       'Nexus', 'Kyoto Animation, Animation Do', 'Madhouse, MAPPA',\n",
       "       'AIC Classic', 'Bridge', 'Ajia-Do', 'Topcraft',\n",
       "       'AIC Spirits, BeSTACK', 'CloverWorks', 'Satelight, C2C',\n",
       "       'Studio 4°C', 'Production IMS', 'Gainax, Production I.G',\n",
       "       'AIC ASTA', 'Tear Studio', 'Studio Bind', 'Seven Arcs Pictures',\n",
       "       'Kinema Citrus, White Fox', 'Gallop, Studio Comet', 'Palm Studio',\n",
       "       'Seven', 'ENGI', 'Zero-G', 'Hal Film Maker', 'A.C.G.T.',\n",
       "       'B.CMAY PICTURES', 'NAZ', 'Telecom Animation Film',\n",
       "       'Studio PuYUKAI', 'Kinema Citrus, Orange', 'Tokyo Movie Shinsha',\n",
       "       'APPP', 'Radix', 'Madhouse, Studio 4°C',\n",
       "       'Bibury Animation Studios',\n",
       "       'Production I.G, Signal.MD, Production GoodBook', 'Revoroot',\n",
       "       'Digital Frontier', 'Felix Film',\n",
       "       'Creators in Pack, Namu Animation', 'Studio Matrix', 'TROYCA',\n",
       "       'Encourage Films', 'Connect', 'Kamikaze Douga',\n",
       "       'Millepensee, GEMBA', 'LIDENFILMS, Felix Film', 'Project No.9',\n",
       "       'Tezuka Productions, MAPPA', 'J.C.Staff, Studio Ghibli',\n",
       "       'Tezuka Productions', 'Orange', 'AIC PLUS+', 'Square Enix',\n",
       "       'Maho Film', 'WAO World', 'Gonzo, Production I.G',\n",
       "       'Madhouse, Studio Gokumi', 'Actas, Studio 3Hz', 'Nomad', 'Pastel',\n",
       "       'Tencent Animation & Comics', 'A-1 Pictures, Ordet', 'Bee Train',\n",
       "       'Oh! Production', 'Hal Film Maker, Nomad',\n",
       "       'Madhouse, Satelight, Graphinica', 'A-1 Pictures, TROYCA',\n",
       "       'Seven Arcs', 'feel., Zexcs', 'SynergySP, Shin-Ei Animation',\n",
       "       'Ordet, LIDENFILMS', 'Orange, Studio 3Hz', 'Studio 3Hz',\n",
       "       'Studio Pierrot, David Production',\n",
       "       'Studio Rikka, Purple Cow Studio Japan', 'Bandai Namco Pictures',\n",
       "       'Fanworks', 'Typhoon Graphics', 'Silver, Arvo Animation',\n",
       "       'Diomedéa, Studio Blanc', 'ILCA', 'Yumeta Company', 'C2C',\n",
       "       'SILVER LINK., Connect',\n",
       "       'B.CMAY PICTURES, Colored-Pencil Animation Design',\n",
       "       'Studio Colorido', 'Nut', 'Shirogumi, Encourage Films',\n",
       "       'Studio Ponoc', 'Barnum Studio, Project No.9, Studio Blanc',\n",
       "       'Artland, TNK', 'Shanghai Foch Film Culture Investment',\n",
       "       'Satelight, 8bit', 'Wolfsbane', 'Production I.G, Xebec, OLM',\n",
       "       'Studio Rikka', 'Production I.G, Madhouse',\n",
       "       'Telecom Animation Film, Shirogumi', 'Namu Animation',\n",
       "       'Arvo Animation', 'Seven, GEEK TOYS',\n",
       "       'Madhouse, Tatsunoko Production', 'Xebec, Issen', 'E&G Films',\n",
       "       'Yaoyorozu', 'Yokohama Animation Lab',\n",
       "       'Telecom Animation Film, Graphinica', 'A-1 Pictures, Bridge',\n",
       "       'Ordet', 'Gonzo, AIC', 'TYO Animations, LIDENFILMS',\n",
       "       'Gonzo, Picture Magic', 'Hal Film Maker, TYO Animations',\n",
       "       'Pine Jam', 'Satelight, ixtl', 'Gaina', 'Asread, White Fox',\n",
       "       'Lesprit', 'Production I.G, Trans Arts', 'production doA',\n",
       "       'J.C.Staff, Egg Firm', 'Studio Fantasia', 'Studio VOLN',\n",
       "       'Hoods Entertainment, Felix Film', 'M.S.C', 'Gallop, Studio Deen',\n",
       "       'A-1 Pictures, Trigger, CloverWorks', 'AXsiZ', 'Think Corporation',\n",
       "       'Kinema Citrus, EMT Squared', 'Gainax, Madhouse',\n",
       "       'Studio Deen, Marvy Jack', 'Studio 4°C, Sunrise',\n",
       "       'Creators in Pack', \"Brain's Base, Marvy Jack\",\n",
       "       'J.C.Staff, A.C.G.T.', 'AIC Spirits, Asread', 'Studio Hibari',\n",
       "       'Studio Chizu', 'Qualia Animation', 'Millepensee',\n",
       "       'TMS Entertainment, 3xCube', 'Satelight, Encourage Films',\n",
       "       'Sunrise, Ascension', 'Kinema Citrus, DR Movie',\n",
       "       'Bones, Kinema Citrus', 'Okuruto Noboru', 'Fanworks, Imagineer',\n",
       "       'SILVER LINK., Nexus', 'DLE', 'GEEK TOYS', 'Larx Entertainment',\n",
       "       'Production I.G, Nut, Revoroot', 'J.C.Staff, SANZIGEN',\n",
       "       'TMS Entertainment, Shin-Ei Animation', 'Triangle Staff',\n",
       "       'Gainax, Shaft', 'Gonzo, Hoods Entertainment',\n",
       "       'Gainax, Tatsunoko Production', 'Tsuchida Productions',\n",
       "       'Barnum Studio, SILVER LINK., Connect',\n",
       "       'A-1 Pictures, Bridge, CloverWorks', 'Satelight, Production Reed'],\n",
       "      dtype=object)"
      ]
     },
     "metadata": {},
     "output_type": "display_data"
    },
    {
     "name": "stdout",
     "output_type": "stream",
     "text": [
      "271\n",
      "column =  source\n"
     ]
    },
    {
     "data": {
      "text/plain": [
       "array(['Manga', 'Light novel', 'Original', 'Visual novel', 'Game',\n",
       "       'Novel', 'Web manga', '4-koma manga', 'Other', 'Card game',\n",
       "       'Digital manga', 'Book', 'Music'], dtype=object)"
      ]
     },
     "metadata": {},
     "output_type": "display_data"
    },
    {
     "name": "stdout",
     "output_type": "stream",
     "text": [
      "13\n",
      "column =  duration\n"
     ]
    },
    {
     "data": {
      "text/plain": [
       "array(['24 min. per ep.', '25 min. per ep.', '23 min. per ep.',\n",
       "       '22 min. per ep.', '24 min.', 'Unknown', '1 hr. 45 min.',\n",
       "       '1 hr. 39 min.', '18 min. per ep.', '3 min. per ep.',\n",
       "       '1 hr. 13 min.', '46 min.', '4 min. per ep.', '29 min. per ep.',\n",
       "       '1 hr. 34 min.', '1 hr. 19 min.', '1 hr. 40 min.',\n",
       "       '50 min. per ep.', '30 min. per ep.', '2 hr.', '26 min. per ep.',\n",
       "       '1 hr. 36 min.', '15 min. per ep.', '28 min. per ep.', '25 min.',\n",
       "       '1 hr. 56 min.', '50 min.', '20 min. per ep.', '2 hr. 42 min.',\n",
       "       '1 hr. 30 min.', '1 hr. 37 min.', '12 min. per ep.', '12 min.',\n",
       "       '11 min.', '9 min.', '10 min.', '1 hr. 52 min.', '41 min.',\n",
       "       '2 hr. 5 min.', '1 hr.', '1 hr. 51 min.', '51 min.',\n",
       "       '1 hr. 50 min.', '1 hr. 25 min.', '44 min.', '2 min.', '34 min.',\n",
       "       '26 min.', '2 min. per ep.', '13 min. per ep.', '48 min.',\n",
       "       '47 min.', '27 min.', '23 min.', '31 min.', '1 hr. 43 min.',\n",
       "       '33 min.', '6 min. per ep.', '1 hr. 4 min.', '1 hr. 57 min.',\n",
       "       '7 min. per ep.', '27 min. per ep.', '1 hr. 16 min.', '30 min.',\n",
       "       '1 hr. 38 min.', '59 min.', '1 hr. 26 min.', '8 min. per ep.',\n",
       "       '1 hr. 32 min.', '1 hr. 29 min.', '14 min. per ep.',\n",
       "       '1 hr. 49 min.', '2 hr. 15 min.', '16 min.', '22 min.',\n",
       "       '2 hr. 4 min.', '35 min. per ep.', '1 hr. 41 min.',\n",
       "       '10 min. per ep.', '2 hr. 16 min.', '45 min.', '58 min.',\n",
       "       '2 hr. 1 min.', '1 hr. 52 min. per ep.', '1 hr. 12 min.',\n",
       "       '1 hr. 53 min.', '2 hr. 20 min.', '1 hr. 20 min.', '1 hr. 10 min.',\n",
       "       '40 min.', '1 hr. 55 min.', '1 hr. 3 min.', '20 min.',\n",
       "       '1 hr. 48 min.', '2 hr. 10 min.', '1 hr. 22 min.', '1 hr. 28 min.',\n",
       "       '14 min.', '1 hr. 27 min.', '1 hr. 33 min.', '1 hr. 21 min.',\n",
       "       '2 hr. 17 min.', '1 hr. 24 min.', '2 hr. 6 min.', '1 hr. 46 min.',\n",
       "       '1 hr. 47 min.', '1 hr. 59 min.', '42 min. per ep.', '55 min.',\n",
       "       '1 hr. 54 min.', '1 hr. 42 min.', '53 min.', '1 hr. 1 min.',\n",
       "       '1 hr. 14 min.', '37 min. per ep.', '21 min.', '11 min. per ep.',\n",
       "       '1 hr. 31 min.', '6 min.', '21 min. per ep.', '1 hr. 15 min.',\n",
       "       '2 hr. 2 min.', '29 min.', '1 hr. 44 min.', '1 hr. 35 min.',\n",
       "       '1 hr. 58 min.', '5 min. per ep.', '1 hr. 2 min. per ep.',\n",
       "       '52 min.', '42 min.', '1 hr. 23 min.', '49 min.', '8 min.',\n",
       "       '17 min. per ep.', '1 min. per ep.', '1 hr. 11 min.',\n",
       "       '45 min. per ep.', '4 min.', '17 min.', '13 min.',\n",
       "       '33 min. per ep.', '58 min. per ep.', '19 min.', '28 min.',\n",
       "       '2 hr. 7 min.', '9 min. per ep.', '32 min.', '2 hr. 36 min.',\n",
       "       '1 hr. 6 min.', '18 min.', '16 min. per ep.'], dtype=object)"
      ]
     },
     "metadata": {},
     "output_type": "display_data"
    },
    {
     "name": "stdout",
     "output_type": "stream",
     "text": [
      "151\n",
      "column =  rating\n"
     ]
    },
    {
     "data": {
      "text/plain": [
       "array(['PG-13 - Teens 13 or older', 'R+ - Mild Nudity',\n",
       "       'R - 17+ (violence & profanity)', 'G - All Ages', 'PG - Children',\n",
       "       'Rx - Hentai', 'Unknown'], dtype=object)"
      ]
     },
     "metadata": {},
     "output_type": "display_data"
    },
    {
     "name": "stdout",
     "output_type": "stream",
     "text": [
      "7\n",
      "column =  members\n"
     ]
    },
    {
     "data": {
      "text/plain": [
       "array([150428, 620736, 226522, ..., 426616, 178908,  66799])"
      ]
     },
     "metadata": {},
     "output_type": "display_data"
    },
    {
     "name": "stdout",
     "output_type": "stream",
     "text": [
      "1995\n",
      "column =  watching\n"
     ]
    },
    {
     "data": {
      "text/plain": [
       "array([16552, 55482, 12585, ..., 35000,  9139,  2964])"
      ]
     },
     "metadata": {},
     "output_type": "display_data"
    },
    {
     "name": "stdout",
     "output_type": "stream",
     "text": [
      "1898\n",
      "column =  completed\n"
     ]
    },
    {
     "data": {
      "text/plain": [
       "array([ 37234, 235371, 113559, ..., 242285, 118689,  36694])"
      ]
     },
     "metadata": {},
     "output_type": "display_data"
    },
    {
     "name": "stdout",
     "output_type": "stream",
     "text": [
      "1978\n",
      "column =  on_hold\n"
     ]
    },
    {
     "data": {
      "text/plain": [
       "array([13009, 42786,  6095, ..., 16731,  5611,  2516])"
      ]
     },
     "metadata": {},
     "output_type": "display_data"
    },
    {
     "name": "stdout",
     "output_type": "stream",
     "text": [
      "1819\n",
      "column =  dropped\n"
     ]
    },
    {
     "data": {
      "text/plain": [
       "array([ 6948, 20017,  2606, ..., 31573,  6544,  3405])"
      ]
     },
     "metadata": {},
     "output_type": "display_data"
    },
    {
     "name": "stdout",
     "output_type": "stream",
     "text": [
      "1815\n",
      "column =  plan_to_watch\n"
     ]
    },
    {
     "data": {
      "text/plain": [
       "array([ 76685, 267080,  91677, ..., 101027,  38925,  21220])"
      ]
     },
     "metadata": {},
     "output_type": "display_data"
    },
    {
     "name": "stdout",
     "output_type": "stream",
     "text": [
      "1976\n"
     ]
    }
   ],
   "source": [
    "for col in anime_df.columns:\n",
    "    print(\"column = \",col)\n",
    "    display(anime_df[col].unique())\n",
    "    print(len(anime_df[col].unique()))"
   ]
  },
  {
   "cell_type": "code",
   "execution_count": 20,
   "metadata": {},
   "outputs": [],
   "source": [
    "train_df = pd.read_csv(os.path.join(config.INPUT_DIR, \"train.csv\"))"
   ]
  },
  {
   "cell_type": "code",
   "execution_count": 21,
   "metadata": {},
   "outputs": [
    {
     "data": {
      "text/plain": [
       "Index(['user_id', 'anime_id', 'score'], dtype='object')"
      ]
     },
     "execution_count": 21,
     "metadata": {},
     "output_type": "execute_result"
    }
   ],
   "source": [
    "train_df.columns"
   ]
  },
  {
   "cell_type": "code",
   "execution_count": 22,
   "metadata": {},
   "outputs": [
    {
     "data": {
      "text/plain": [
       "array(['0008e10fb39e55447333', '001a7aed2546342e2602',\n",
       "       '003d4b0257cc7849ffe1', ..., 'ff441af085c3522f62ba',\n",
       "       'ff5e8e9e3553b90f222a', 'ffa6ff8006f8630f3d11'], dtype=object)"
      ]
     },
     "metadata": {},
     "output_type": "display_data"
    },
    {
     "data": {
      "text/plain": [
       "array(['0669cc0219d468761195', '111adb8835b8a1a2cf54',\n",
       "       '1fc8683c393432a2f9c7', ..., '867934bc2a611a8423da',\n",
       "       '1e9b3a43745594039e42', '7937a8344408e7f5f783'], dtype=object)"
      ]
     },
     "metadata": {},
     "output_type": "display_data"
    },
    {
     "data": {
      "text/plain": [
       "array([ 2, 10,  1,  8,  9,  6,  7,  4,  3,  5])"
      ]
     },
     "metadata": {},
     "output_type": "display_data"
    }
   ],
   "source": [
    "for col in train_df.columns:\n",
    "    display(train_df[col].unique())"
   ]
  },
  {
   "cell_type": "code",
   "execution_count": 23,
   "metadata": {},
   "outputs": [],
   "source": [
    "test_df = pd.read_csv(os.path.join(config.INPUT_DIR, \"test.csv\"))"
   ]
  },
  {
   "cell_type": "markdown",
   "metadata": {},
   "source": [
    "# train/testのuser 確認"
   ]
  },
  {
   "cell_type": "code",
   "execution_count": 24,
   "metadata": {},
   "outputs": [
    {
     "name": "stdout",
     "output_type": "stream",
     "text": [
      "1780 1794 1984\n"
     ]
    }
   ],
   "source": [
    "train_user = train_df[\"user_id\"].unique()\n",
    "test_user = test_df[\"user_id\"].unique()\n",
    "\n",
    "user_set = set(train_user) & set(test_user)\n",
    "\n",
    "print(len(user_set), len(train_user), len(test_user))"
   ]
  },
  {
   "cell_type": "code",
   "execution_count": 25,
   "metadata": {},
   "outputs": [
    {
     "name": "stdout",
     "output_type": "stream",
     "text": [
      "204\n",
      "22.735307114449846\n"
     ]
    }
   ],
   "source": [
    "untrained_user = set(test_user) - set(train_user)\n",
    "\n",
    "print(len(untrained_user))\n",
    "\n",
    "untrained_user_df = test_df[test_df[\"user_id\"].isin(untrained_user)]\n",
    "print((len(untrained_user_df) / len(test_df)) * 100)"
   ]
  },
  {
   "cell_type": "markdown",
   "metadata": {},
   "source": [
    "testにしか含まれていないuserが全体の22%ぐらいあるっぽい  \n",
    "CV切る時にはtrainのなかで未知userが20%に近くなるようにfold切りたい\n"
   ]
  },
  {
   "cell_type": "markdown",
   "metadata": {},
   "source": [
    "# train/testのanime 確認"
   ]
  },
  {
   "cell_type": "code",
   "execution_count": 26,
   "metadata": {},
   "outputs": [
    {
     "name": "stdout",
     "output_type": "stream",
     "text": [
      "1952 1954 1954\n"
     ]
    }
   ],
   "source": [
    "train_anime = train_df[\"anime_id\"].unique()\n",
    "test_anime = test_df[\"anime_id\"].unique()\n",
    "\n",
    "anime_set = set(train_anime) & set(test_anime)\n",
    "print(len(anime_set), len(train_anime), len(test_anime))"
   ]
  },
  {
   "cell_type": "code",
   "execution_count": 27,
   "metadata": {},
   "outputs": [
    {
     "name": "stdout",
     "output_type": "stream",
     "text": [
      "2\n",
      "0.0016995819028518986\n"
     ]
    }
   ],
   "source": [
    "untrained_anime = set(test_anime) - set(train_anime)\n",
    "print(len(untrained_anime))\n",
    "\n",
    "untrained_anime_df = test_df[test_df[\"anime_id\"].isin(untrained_anime)]\n",
    "print(len(untrained_anime_df) / len(test_df) * 100)"
   ]
  },
  {
   "cell_type": "markdown",
   "metadata": {},
   "source": [
    "testにしか含まれていないanimeが2本だけあるらしい。  \n",
    "2本だけなら無視してもよさそう・・・？"
   ]
  },
  {
   "cell_type": "code",
   "execution_count": 28,
   "metadata": {},
   "outputs": [
    {
     "name": "stdout",
     "output_type": "stream",
     "text": [
      "0\n"
     ]
    }
   ],
   "source": [
    "anime_unique = anime_df[\"anime_id\"].unique()\n",
    "\n",
    "noinfo_anime_set = set(test_anime) - set(anime_unique)\n",
    "print(len(noinfo_anime_set))"
   ]
  },
  {
   "cell_type": "markdown",
   "metadata": {},
   "source": [
    "anime そのものの情報はあるっぽい"
   ]
  },
  {
   "cell_type": "code",
   "execution_count": null,
   "metadata": {},
   "outputs": [],
   "source": []
  }
 ],
 "metadata": {
  "kernelspec": {
   "display_name": "base",
   "language": "python",
   "name": "python3"
  },
  "language_info": {
   "codemirror_mode": {
    "name": "ipython",
    "version": 3
   },
   "file_extension": ".py",
   "mimetype": "text/x-python",
   "name": "python",
   "nbconvert_exporter": "python",
   "pygments_lexer": "ipython3",
   "version": "3.10.10"
  },
  "orig_nbformat": 4
 },
 "nbformat": 4,
 "nbformat_minor": 2
}
