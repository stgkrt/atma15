{
 "cells": [
  {
   "attachments": {},
   "cell_type": "markdown",
   "metadata": {},
   "source": [
    "\n",
    "# 協調フィルタリング\n",
    "\n",
    "協調フィルタリング（Collaborative Filtering）とは、ユーザー間で共有される嗜好性（好み）を基に、あるユーザーがまだ評価していないアイテムに対する評価を予測するための手法です。  \n",
    "例えば、映画の推薦システムでは、一部のユーザーが評価した映画の評価値から、他のユーザーがまだ評価していない映画に対する評価を予測することができます。\n",
    "\n",
    "# SVDを用いた協調フィルタリング\n",
    "\n",
    "SVD（Singular Value Decomposition）を用いた協調フィルタリングは、行列分解の手法の一つであり、評価値の未知の部分を予測するために用いられます。 \n",
    "評価行列を分解することで、ユーザーとアイテムの潜在的な特性を捉え、これを基に評価値の未知の部分を予測します。\n",
    "\n",
    "SVDを用いた協調フィルタリングの手順は以下の通りです。\n",
    "\n",
    "1. **行列の初期化**：評価行列を初期化します。行はユーザー、列はアイテムを表し、各要素はそのユーザーのアイテムに対する評価値を表します。評価が未知の部分はNaNや0で埋められます。\n",
    "2. **行列の分解**：評価行列をSVDによって3つの行列に分解します。分解した行列はユーザーの潜在的な特性を表す行列U、アイテムの潜在的な特性を表す行列V、およびそれらの特性の重要度を表す対角行列Σです。\n",
    "3. **行列の再構成**：分解した行列を元に戻すことで、評価行列の未知の部分を予測します。具体的には、行列U、Σ、Vを掛け合わせることで評価行列を再構成します。\n",
    "\n",
    "評価行列を以下のように表すと、\n",
    "\n",
    "$$\n",
    "R = U \\Sigma V^T\n",
    "$$\n",
    "\n",
    "ここで、Rは評価行列、Uはユーザーの潜在的な特性を表す行列、Σはそれらの特性の重要度を表す対角行列、Vはアイテムの潜在的な特性を表す行列です。\n",
    "\n",
    "4. **評価値の予測**：再構成した評価行列から、評価が未知だった部分の評価値を予測します。\n",
    "\n",
    "*written by ChatGPT"
   ]
  },
  {
   "attachments": {},
   "cell_type": "markdown",
   "metadata": {},
   "source": [
    "# surpriseライブラリを使用した予測"
   ]
  },
  {
   "cell_type": "code",
   "execution_count": 1,
   "metadata": {},
   "outputs": [],
   "source": [
    "# !pip install scikit-surprise"
   ]
  },
  {
   "attachments": {},
   "cell_type": "markdown",
   "metadata": {},
   "source": [
    "### 1. Cross validationによる手法の評価"
   ]
  },
  {
   "cell_type": "code",
   "execution_count": 4,
   "metadata": {},
   "outputs": [
    {
     "name": "stdout",
     "output_type": "stream",
     "text": [
      "Evaluating RMSE of algorithm SVD on 5 split(s).\n",
      "\n",
      "                  Fold 1  Fold 2  Fold 3  Fold 4  Fold 5  Mean    Std     \n",
      "RMSE (testset)    1.2023  1.2118  1.1998  1.2104  1.2023  1.2053  0.0048  \n",
      "Fit time          0.60    0.63    0.63    0.65    0.59    0.62    0.02    \n",
      "Test time         0.08    0.08    0.15    0.08    0.08    0.09    0.03    \n"
     ]
    }
   ],
   "source": [
    "import pandas as pd\n",
    "from surprise import Dataset, Reader, SVD\n",
    "from surprise.model_selection import cross_validate\n",
    "\n",
    "# Define a Reader object\n",
    "# The Reader object helps in parsing the file or dataframe\n",
    "reader = Reader(rating_scale=(1, 10))\n",
    "\n",
    "# Load the dataset\n",
    "train_df = pd.read_csv('/workspace/input/atmaCup15_dataset/train.csv')\n",
    "\n",
    "train_data = Dataset.load_from_df(train_df[['user_id', 'anime_id', 'score']], reader)\n",
    "\n",
    "# Use the famous SVD algorithm.\n",
    "algo = SVD()\n",
    "\n",
    "# Run 5-fold cross-validation and print results.\n",
    "_ = cross_validate(algo, train_data, measures=['RMSE',], cv=10, verbose=True)"
   ]
  },
  {
   "attachments": {},
   "cell_type": "markdown",
   "metadata": {},
   "source": [
    "### 2. 全trainデータで学習し直す"
   ]
  },
  {
   "cell_type": "code",
   "execution_count": 6,
   "metadata": {},
   "outputs": [],
   "source": [
    "# Create the dataset to be used for building the filter\n",
    "train_data = Dataset.load_from_df(train_df[['user_id', 'anime_id', 'score']], reader)\n",
    "\n",
    "# Retrieve the trainset.\n",
    "train_data = train_data.build_full_trainset()\n",
    "\n",
    "# Build an algorithm, and train it.\n",
    "algo = SVD()\n",
    "_ = algo.fit(train_data)"
   ]
  },
  {
   "attachments": {},
   "cell_type": "markdown",
   "metadata": {},
   "source": [
    "### 3. testデータに対して予測"
   ]
  },
  {
   "cell_type": "code",
   "execution_count": 9,
   "metadata": {},
   "outputs": [],
   "source": [
    "# Load the test dataset\n",
    "test_df = pd.read_csv('/workspace/input/atmaCup15_dataset/test.csv')\n",
    "test_df['score'] = 0\n",
    "\n",
    "# Convert the test dataset to the surprise format\n",
    "test_set = Dataset.load_from_df(test_df, reader).build_full_trainset().build_testset()\n",
    "\n",
    "# Predict ratings for the testset\n",
    "predictions = algo.test(test_set)\n",
    "\n",
    "submission = pd.read_csv('/workspace/input/atmaCup15_dataset/sample_submission.csv')\n",
    "\n",
    "# Extract the predicted ratings and add them to the test dataframe\n",
    "submission['score'] = [pred.est for pred in predictions]\n",
    "\n",
    "submission.to_csv('submission.csv', index=False)"
   ]
  },
  {
   "cell_type": "markdown",
   "metadata": {},
   "source": [
    "この例ではanime.csvの内容は全く使用せず、純粋なユーザーの評価値のみを使用しています。  \n",
    "それらのデータと組み合わせることでさらに精度の向上が期待できますので、試してみてください。"
   ]
  },
  {
   "cell_type": "markdown",
   "metadata": {},
   "source": []
  },
  {
   "cell_type": "code",
   "execution_count": 10,
   "metadata": {},
   "outputs": [
    {
     "data": {
      "text/plain": [
       "<Axes: >"
      ]
     },
     "execution_count": 10,
     "metadata": {},
     "output_type": "execute_result"
    },
    {
     "data": {
      "image/png": "[encoded data removed]",
      "text/plain": [
       "<Figure size 640x480 with 1 Axes>"
      ]
     },
     "metadata": {},
     "output_type": "display_data"
    }
   ],
   "source": [
    "submission[\"score\"].hist()"
   ]
  },
  {
   "cell_type": "code",
   "execution_count": null,
   "metadata": {},
   "outputs": [],
   "source": []
  }
 ],
 "metadata": {
  "kernelspec": {
   "display_name": "base",
   "language": "python",
   "name": "python3"
  },
  "language_info": {
   "codemirror_mode": {
    "name": "ipython",
    "version": 3
   },
   "file_extension": ".py",
   "mimetype": "text/x-python",
   "name": "python",
   "nbconvert_exporter": "python",
   "pygments_lexer": "ipython3",
   "version": "3.10.10"
  },
  "orig_nbformat": 4
 },
 "nbformat": 4,
 "nbformat_minor": 2
}
