{
 "cells": [
  {
   "attachments": {},
   "cell_type": "markdown",
   "metadata": {},
   "source": [
    "# surpriseライブラリを使用した予測"
   ]
  },
  {
   "attachments": {},
   "cell_type": "markdown",
   "metadata": {},
   "source": [
    "### 1. Cross validationによる手法の評価"
   ]
  },
  {
   "cell_type": "code",
   "execution_count": 1,
   "metadata": {},
   "outputs": [
    {
     "name": "stdout",
     "output_type": "stream",
     "text": [
      "Evaluating RMSE of algorithm SVD on 10 split(s).\n",
      "\n",
      "                  Fold 1  Fold 2  Fold 3  Fold 4  Fold 5  Fold 6  Fold 7  Fold 8  Fold 9  Fold 10 Mean    Std     \n",
      "RMSE (testset)    1.1874  1.2026  1.1881  1.1982  1.1955  1.1968  1.1965  1.2124  1.2205  1.1818  1.1980  0.0110  \n",
      "Fit time          0.75    0.80    0.78    0.80    0.76    0.76    0.77    0.82    0.81    0.80    0.79    0.02    \n",
      "Test time         0.11    0.04    0.04    0.04    0.04    0.04    0.04    0.04    0.04    0.11    0.06    0.03    \n"
     ]
    }
   ],
   "source": [
    "import pandas as pd\n",
    "from surprise import Dataset, Reader, SVD\n",
    "from surprise.model_selection import cross_validate\n",
    "\n",
    "# Define a Reader object\n",
    "# The Reader object helps in parsing the file or dataframe\n",
    "reader = Reader(rating_scale=(1, 10))\n",
    "\n",
    "# Load the dataset\n",
    "train_df = pd.read_csv('/workspace/input/atmaCup15_dataset/train.csv')\n",
    "\n",
    "train_data = Dataset.load_from_df(train_df[['user_id', 'anime_id', 'score']], reader)\n",
    "\n",
    "# Use the famous SVD algorithm.\n",
    "algo = SVD()\n",
    "\n",
    "# Run 5-fold cross-validation and print results.\n",
    "_ = cross_validate(algo, train_data, measures=['RMSE',], cv=10, verbose=True)"
   ]
  },
  {
   "attachments": {},
   "cell_type": "markdown",
   "metadata": {},
   "source": [
    "### 2. 全trainデータで学習し直す"
   ]
  },
  {
   "cell_type": "code",
   "execution_count": 2,
   "metadata": {},
   "outputs": [],
   "source": [
    "# Create the dataset to be used for building the filter\n",
    "train_data = Dataset.load_from_df(train_df[['user_id', 'anime_id', 'score']], reader)\n",
    "\n",
    "# Retrieve the trainset.\n",
    "train_data = train_data.build_full_trainset()\n",
    "\n",
    "# Build an algorithm, and train it.\n",
    "algo = SVD()\n",
    "_ = algo.fit(train_data)"
   ]
  },
  {
   "attachments": {},
   "cell_type": "markdown",
   "metadata": {},
   "source": [
    "### 3. testデータに対して予測"
   ]
  },
  {
   "cell_type": "code",
   "execution_count": 3,
   "metadata": {},
   "outputs": [],
   "source": [
    "# Load the test dataset\n",
    "test_df = pd.read_csv('/workspace/input/atmaCup15_dataset/test.csv')\n",
    "test_df['score'] = 0\n",
    "\n",
    "# Convert the test dataset to the surprise format\n",
    "test_set = Dataset.load_from_df(test_df, reader).build_full_trainset().build_testset()\n",
    "\n",
    "# Predict ratings for the testset\n",
    "predictions = algo.test(test_set)\n",
    "\n",
    "submission = pd.read_csv('/workspace/input/atmaCup15_dataset/sample_submission.csv')\n",
    "\n",
    "# Extract the predicted ratings and add them to the test dataframe\n",
    "submission['score'] = [pred.est for pred in predictions]\n",
    "\n",
    "submission.to_csv('submission.csv', index=False)"
   ]
  },
  {
   "cell_type": "markdown",
   "metadata": {},
   "source": [
    "この例ではanime.csvの内容は全く使用せず、純粋なユーザーの評価値のみを使用しています。  \n",
    "それらのデータと組み合わせることでさらに精度の向上が期待できますので、試してみてください。"
   ]
  },
  {
   "cell_type": "markdown",
   "metadata": {},
   "source": []
  },
  {
   "cell_type": "code",
   "execution_count": 4,
   "metadata": {},
   "outputs": [
    {
     "data": {
      "text/plain": [
       "<Axes: >"
      ]
     },
     "execution_count": 4,
     "metadata": {},
     "output_type": "execute_result"
    },
    {
     "data": {
      "image/png": "[encoded data removed]",
      "text/plain": [
       "<Figure size 640x480 with 1 Axes>"
      ]
     },
     "metadata": {},
     "output_type": "display_data"
    }
   ],
   "source": [
    "submission[\"score\"].hist()"
   ]
  },
  {
   "cell_type": "code",
   "execution_count": null,
   "metadata": {},
   "outputs": [],
   "source": []
  }
 ],
 "metadata": {
  "kernelspec": {
   "display_name": "base",
   "language": "python",
   "name": "python3"
  },
  "language_info": {
   "codemirror_mode": {
    "name": "ipython",
    "version": 3
   },
   "file_extension": ".py",
   "mimetype": "text/x-python",
   "name": "python",
   "nbconvert_exporter": "python",
   "pygments_lexer": "ipython3",
   "version": "3.10.10"
  },
  "orig_nbformat": 4
 },
 "nbformat": 4,
 "nbformat_minor": 2
}
