{
 "cells": [
  {
   "cell_type": "code",
   "execution_count": 20,
   "metadata": {},
   "outputs": [],
   "source": [
    "import os\n",
    "\n",
    "import pandas as pd\n",
    "\n",
    "from sklearn.model_selection import StratifiedKFold, StratifiedGroupKFold \n",
    "from iterstrat.ml_stratifiers import MultilabelStratifiedKFold"
   ]
  },
  {
   "cell_type": "code",
   "execution_count": 21,
   "metadata": {},
   "outputs": [],
   "source": [
    "class config:\n",
    "    INPUT_DIR = os.path.join(\"/workspace\", \"input\", \"atmaCup15_dataset\")"
   ]
  },
  {
   "cell_type": "markdown",
   "metadata": {},
   "source": [
    "# anime csv"
   ]
  },
  {
   "cell_type": "code",
   "execution_count": 22,
   "metadata": {},
   "outputs": [],
   "source": [
    "anime_df = pd.read_csv(os.path.join(config.INPUT_DIR, \"anime.csv\"))\n",
    "train_df = pd.read_csv(os.path.join(config.INPUT_DIR, \"train.csv\"))\n"
   ]
  },
  {
   "cell_type": "code",
   "execution_count": 23,
   "metadata": {},
   "outputs": [
    {
     "data": {
      "text/html": [
       "<div>\n",
       "<style scoped>\n",
       "    .dataframe tbody tr th:only-of-type {\n",
       "        vertical-align: middle;\n",
       "    }\n",
       "\n",
       "    .dataframe tbody tr th {\n",
       "        vertical-align: top;\n",
       "    }\n",
       "\n",
       "    .dataframe thead th {\n",
       "        text-align: right;\n",
       "    }\n",
       "</style>\n",
       "<table border=\"1\" class=\"dataframe\">\n",
       "  <thead>\n",
       "    <tr style=\"text-align: right;\">\n",
       "      <th></th>\n",
       "      <th>user_id</th>\n",
       "      <th>anime_id</th>\n",
       "      <th>score</th>\n",
       "    </tr>\n",
       "  </thead>\n",
       "  <tbody>\n",
       "    <tr>\n",
       "      <th>0</th>\n",
       "      <td>0008e10fb39e55447333</td>\n",
       "      <td>0669cc0219d468761195</td>\n",
       "      <td>2</td>\n",
       "    </tr>\n",
       "    <tr>\n",
       "      <th>1</th>\n",
       "      <td>0008e10fb39e55447333</td>\n",
       "      <td>111adb8835b8a1a2cf54</td>\n",
       "      <td>10</td>\n",
       "    </tr>\n",
       "    <tr>\n",
       "      <th>2</th>\n",
       "      <td>0008e10fb39e55447333</td>\n",
       "      <td>1fc8683c393432a2f9c7</td>\n",
       "      <td>1</td>\n",
       "    </tr>\n",
       "    <tr>\n",
       "      <th>3</th>\n",
       "      <td>0008e10fb39e55447333</td>\n",
       "      <td>2290175205d55e81b197</td>\n",
       "      <td>8</td>\n",
       "    </tr>\n",
       "    <tr>\n",
       "      <th>4</th>\n",
       "      <td>0008e10fb39e55447333</td>\n",
       "      <td>28f173b60331d5cabb0d</td>\n",
       "      <td>9</td>\n",
       "    </tr>\n",
       "    <tr>\n",
       "      <th>...</th>\n",
       "      <td>...</td>\n",
       "      <td>...</td>\n",
       "      <td>...</td>\n",
       "    </tr>\n",
       "    <tr>\n",
       "      <th>136396</th>\n",
       "      <td>ffa6ff8006f8630f3d11</td>\n",
       "      <td>e9ba5ca32ea7e22e0a55</td>\n",
       "      <td>6</td>\n",
       "    </tr>\n",
       "    <tr>\n",
       "      <th>136397</th>\n",
       "      <td>ffa6ff8006f8630f3d11</td>\n",
       "      <td>ea2be994d7e36d2a720a</td>\n",
       "      <td>7</td>\n",
       "    </tr>\n",
       "    <tr>\n",
       "      <th>136398</th>\n",
       "      <td>ffa6ff8006f8630f3d11</td>\n",
       "      <td>ee3804a55e2b4ad58aad</td>\n",
       "      <td>7</td>\n",
       "    </tr>\n",
       "    <tr>\n",
       "      <th>136399</th>\n",
       "      <td>ffa6ff8006f8630f3d11</td>\n",
       "      <td>fc143f3fa9979ab1c230</td>\n",
       "      <td>9</td>\n",
       "    </tr>\n",
       "    <tr>\n",
       "      <th>136400</th>\n",
       "      <td>ffa6ff8006f8630f3d11</td>\n",
       "      <td>fe1ca9ed790a7d359713</td>\n",
       "      <td>7</td>\n",
       "    </tr>\n",
       "  </tbody>\n",
       "</table>\n",
       "<p>136401 rows × 3 columns</p>\n",
       "</div>"
      ],
      "text/plain": [
       "                     user_id              anime_id  score\n",
       "0       0008e10fb39e55447333  0669cc0219d468761195      2\n",
       "1       0008e10fb39e55447333  111adb8835b8a1a2cf54     10\n",
       "2       0008e10fb39e55447333  1fc8683c393432a2f9c7      1\n",
       "3       0008e10fb39e55447333  2290175205d55e81b197      8\n",
       "4       0008e10fb39e55447333  28f173b60331d5cabb0d      9\n",
       "...                      ...                   ...    ...\n",
       "136396  ffa6ff8006f8630f3d11  e9ba5ca32ea7e22e0a55      6\n",
       "136397  ffa6ff8006f8630f3d11  ea2be994d7e36d2a720a      7\n",
       "136398  ffa6ff8006f8630f3d11  ee3804a55e2b4ad58aad      7\n",
       "136399  ffa6ff8006f8630f3d11  fc143f3fa9979ab1c230      9\n",
       "136400  ffa6ff8006f8630f3d11  fe1ca9ed790a7d359713      7\n",
       "\n",
       "[136401 rows x 3 columns]"
      ]
     },
     "execution_count": 23,
     "metadata": {},
     "output_type": "execute_result"
    }
   ],
   "source": [
    "train_df"
   ]
  },
  {
   "cell_type": "code",
   "execution_count": 24,
   "metadata": {},
   "outputs": [],
   "source": [
    "group = train_df[\"user_id\"].values\n",
    "\n",
    "fold = StratifiedGroupKFold(n_splits=5, shuffle=True, random_state=510)\n",
    "X = train_df[[\"user_id\", \"anime_id\"]].values\n",
    "y = train_df[[\"score\"]].values\n",
    "cv = fold.split(X, y, groups=group)\n",
    "\n",
    "train_df[\"fold\"] = -1\n",
    "for fold, (train_index, valid_index) in enumerate(cv):\n",
    "    train_df.loc[valid_index, \"fold\"] = fold\n"
   ]
  },
  {
   "cell_type": "code",
   "execution_count": 26,
   "metadata": {},
   "outputs": [],
   "source": [
    "train_df.to_csv(os.path.join(config.INPUT_DIR, \"train_stratifiedgroupkfold.csv\"), index=False)"
   ]
  },
  {
   "cell_type": "code",
   "execution_count": null,
   "metadata": {},
   "outputs": [],
   "source": []
  }
 ],
 "metadata": {
  "kernelspec": {
   "display_name": "base",
   "language": "python",
   "name": "python3"
  },
  "language_info": {
   "codemirror_mode": {
    "name": "ipython",
    "version": 3
   },
   "file_extension": ".py",
   "mimetype": "text/x-python",
   "name": "python",
   "nbconvert_exporter": "python",
   "pygments_lexer": "ipython3",
   "version": "3.10.10"
  },
  "orig_nbformat": 4
 },
 "nbformat": 4,
 "nbformat_minor": 2
}
