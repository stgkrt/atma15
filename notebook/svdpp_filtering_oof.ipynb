{
 "cells": [
  {
   "cell_type": "code",
   "execution_count": 4,
   "metadata": {},
   "outputs": [],
   "source": [
    "import os\n",
    "\n",
    "import pandas as pd\n",
    "import numpy as np\n",
    "from surprise import Dataset, Reader, SVDpp\n",
    "from surprise.model_selection import cross_validate\n",
    "\n",
    "from sklearn.model_selection import StratifiedGroupKFold "
   ]
  },
  {
   "cell_type": "code",
   "execution_count": 5,
   "metadata": {},
   "outputs": [],
   "source": [
    "EXP_NAME = \"svdpp\"\n",
    "class configs:\n",
    "    OUTPUT_DIR = os.path.join(\"/workspace\", \"working\", EXP_NAME)\n",
    "    INPUT_DIR = os.path.join(\"/workspace\", \"input\", \"atmaCup15_dataset\")\n",
    "    TRAIN_CSV = os.path.join(INPUT_DIR, \"train_stratifiedgroupkfold.csv\")\n",
    "    ANIME_CSV = os.path.join(INPUT_DIR, \"anime.csv\")\n",
    "    TEST_CSV = os.path.join(INPUT_DIR, \"test.csv\")\n",
    "    SAMPLE_SUB_CSV = os.path.join(INPUT_DIR, \"sample_submission.csv\")\n",
    "    SEED = 42"
   ]
  },
  {
   "cell_type": "code",
   "execution_count": 6,
   "metadata": {},
   "outputs": [
    {
     "name": "stdout",
     "output_type": "stream",
     "text": [
      "fold 0\n",
      "fold 1\n",
      "fold 2\n",
      "fold 3\n",
      "fold 4\n"
     ]
    }
   ],
   "source": [
    "# Load the dataset\n",
    "train_df = pd.read_csv(os.path.join(configs.INPUT_DIR, \"train_stratifiedkfold.csv\"))\n",
    "reader = Reader(rating_scale=(1, 10))\n",
    "\n",
    "models = []\n",
    "for fold in sorted(train_df[\"fold\"].unique()):\n",
    "    print(\"fold\", fold)\n",
    "    train_df_ = train_df[train_df[\"fold\"] != fold].reset_index(drop=True)\n",
    "    train_data = Dataset.load_from_df(train_df_[['user_id', 'anime_id', 'score']], reader)\n",
    "    model = SVDpp()\n",
    "    model.fit(train_data.build_full_trainset())\n",
    "    models.append(model)"
   ]
  },
  {
   "cell_type": "code",
   "execution_count": 7,
   "metadata": {},
   "outputs": [
    {
     "name": "stdout",
     "output_type": "stream",
     "text": [
      "54561\n",
      "81841\n",
      "109121\n",
      "136401\n"
     ]
    }
   ],
   "source": [
    "oof_df = pd.DataFrame()\n",
    "for fold, model in enumerate(models):\n",
    "    test_df_ = train_df[train_df[\"fold\"] == fold].reset_index(drop=True)\n",
    "    test_data = Dataset.load_from_df(test_df_[['user_id', 'anime_id', 'score']], reader)\n",
    "    oof_pred = model.test(test_data.build_full_trainset().build_testset())\n",
    "    pred = [pred.est for pred in oof_pred]\n",
    "    # predictions.extend(oof_pred)\n",
    "    if len(oof_df)==0:\n",
    "        test_df_[\"svd\"] = pred\n",
    "        oof_df = test_df_\n",
    "    else:\n",
    "        test_df_[\"svd\"] = pred\n",
    "        oof_df = pd.concat([oof_df, test_df_], axis=0)\n",
    "        print(len(oof_df))"
   ]
  },
  {
   "cell_type": "code",
   "execution_count": 8,
   "metadata": {},
   "outputs": [
    {
     "data": {
      "text/plain": [
       "(136401, 136401)"
      ]
     },
     "execution_count": 8,
     "metadata": {},
     "output_type": "execute_result"
    }
   ],
   "source": [
    "len(train_df), len(oof_df)"
   ]
  },
  {
   "cell_type": "code",
   "execution_count": 9,
   "metadata": {},
   "outputs": [
    {
     "data": {
      "text/html": [
       "<div>\n",
       "<style scoped>\n",
       "    .dataframe tbody tr th:only-of-type {\n",
       "        vertical-align: middle;\n",
       "    }\n",
       "\n",
       "    .dataframe tbody tr th {\n",
       "        vertical-align: top;\n",
       "    }\n",
       "\n",
       "    .dataframe thead th {\n",
       "        text-align: right;\n",
       "    }\n",
       "</style>\n",
       "<table border=\"1\" class=\"dataframe\">\n",
       "  <thead>\n",
       "    <tr style=\"text-align: right;\">\n",
       "      <th></th>\n",
       "      <th>user_id</th>\n",
       "      <th>anime_id</th>\n",
       "      <th>score</th>\n",
       "      <th>fold</th>\n",
       "      <th>svd</th>\n",
       "    </tr>\n",
       "  </thead>\n",
       "  <tbody>\n",
       "    <tr>\n",
       "      <th>0</th>\n",
       "      <td>0008e10fb39e55447333</td>\n",
       "      <td>2290175205d55e81b197</td>\n",
       "      <td>8</td>\n",
       "      <td>0</td>\n",
       "      <td>7.800858</td>\n",
       "    </tr>\n",
       "    <tr>\n",
       "      <th>1</th>\n",
       "      <td>0008e10fb39e55447333</td>\n",
       "      <td>68241332330cbefa2b9e</td>\n",
       "      <td>9</td>\n",
       "      <td>0</td>\n",
       "      <td>6.984552</td>\n",
       "    </tr>\n",
       "    <tr>\n",
       "      <th>2</th>\n",
       "      <td>0008e10fb39e55447333</td>\n",
       "      <td>6c7ce24e0e4f56e0aac0</td>\n",
       "      <td>10</td>\n",
       "      <td>0</td>\n",
       "      <td>8.065854</td>\n",
       "    </tr>\n",
       "    <tr>\n",
       "      <th>3</th>\n",
       "      <td>0008e10fb39e55447333</td>\n",
       "      <td>741d2cba7471560b418a</td>\n",
       "      <td>9</td>\n",
       "      <td>0</td>\n",
       "      <td>7.216533</td>\n",
       "    </tr>\n",
       "    <tr>\n",
       "      <th>4</th>\n",
       "      <td>0008e10fb39e55447333</td>\n",
       "      <td>a1b5af1838c1af21fb99</td>\n",
       "      <td>2</td>\n",
       "      <td>0</td>\n",
       "      <td>4.090316</td>\n",
       "    </tr>\n",
       "    <tr>\n",
       "      <th>...</th>\n",
       "      <td>...</td>\n",
       "      <td>...</td>\n",
       "      <td>...</td>\n",
       "      <td>...</td>\n",
       "      <td>...</td>\n",
       "    </tr>\n",
       "    <tr>\n",
       "      <th>27275</th>\n",
       "      <td>ffa6ff8006f8630f3d11</td>\n",
       "      <td>35d87d3bdeed620ef335</td>\n",
       "      <td>8</td>\n",
       "      <td>4</td>\n",
       "      <td>8.141502</td>\n",
       "    </tr>\n",
       "    <tr>\n",
       "      <th>27276</th>\n",
       "      <td>ffa6ff8006f8630f3d11</td>\n",
       "      <td>963d6e728205d1311231</td>\n",
       "      <td>7</td>\n",
       "      <td>4</td>\n",
       "      <td>7.003046</td>\n",
       "    </tr>\n",
       "    <tr>\n",
       "      <th>27277</th>\n",
       "      <td>ffa6ff8006f8630f3d11</td>\n",
       "      <td>b22bd52bd814b6ed3ac4</td>\n",
       "      <td>7</td>\n",
       "      <td>4</td>\n",
       "      <td>7.592110</td>\n",
       "    </tr>\n",
       "    <tr>\n",
       "      <th>27278</th>\n",
       "      <td>ffa6ff8006f8630f3d11</td>\n",
       "      <td>d922517dbe7fc6d6ff64</td>\n",
       "      <td>7</td>\n",
       "      <td>4</td>\n",
       "      <td>6.778592</td>\n",
       "    </tr>\n",
       "    <tr>\n",
       "      <th>27279</th>\n",
       "      <td>ffa6ff8006f8630f3d11</td>\n",
       "      <td>fc143f3fa9979ab1c230</td>\n",
       "      <td>9</td>\n",
       "      <td>4</td>\n",
       "      <td>8.510989</td>\n",
       "    </tr>\n",
       "  </tbody>\n",
       "</table>\n",
       "<p>136401 rows × 5 columns</p>\n",
       "</div>"
      ],
      "text/plain": [
       "                    user_id              anime_id  score  fold       svd\n",
       "0      0008e10fb39e55447333  2290175205d55e81b197      8     0  7.800858\n",
       "1      0008e10fb39e55447333  68241332330cbefa2b9e      9     0  6.984552\n",
       "2      0008e10fb39e55447333  6c7ce24e0e4f56e0aac0     10     0  8.065854\n",
       "3      0008e10fb39e55447333  741d2cba7471560b418a      9     0  7.216533\n",
       "4      0008e10fb39e55447333  a1b5af1838c1af21fb99      2     0  4.090316\n",
       "...                     ...                   ...    ...   ...       ...\n",
       "27275  ffa6ff8006f8630f3d11  35d87d3bdeed620ef335      8     4  8.141502\n",
       "27276  ffa6ff8006f8630f3d11  963d6e728205d1311231      7     4  7.003046\n",
       "27277  ffa6ff8006f8630f3d11  b22bd52bd814b6ed3ac4      7     4  7.592110\n",
       "27278  ffa6ff8006f8630f3d11  d922517dbe7fc6d6ff64      7     4  6.778592\n",
       "27279  ffa6ff8006f8630f3d11  fc143f3fa9979ab1c230      9     4  8.510989\n",
       "\n",
       "[136401 rows x 5 columns]"
      ]
     },
     "execution_count": 9,
     "metadata": {},
     "output_type": "execute_result"
    }
   ],
   "source": [
    "oof_df\n"
   ]
  },
  {
   "cell_type": "code",
   "execution_count": 11,
   "metadata": {},
   "outputs": [],
   "source": [
    "# os.makedirs(configs.OUTPUT_DIR)\n",
    "oof_df.to_csv(os.path.join(configs.OUTPUT_DIR, \"train_addSVDpp.csv\"), index=False)"
   ]
  },
  {
   "cell_type": "markdown",
   "metadata": {},
   "source": [
    "# test"
   ]
  },
  {
   "cell_type": "code",
   "execution_count": 12,
   "metadata": {},
   "outputs": [],
   "source": [
    "test_df = pd.read_csv('/workspace/input/atmaCup15_dataset/test.csv')\n",
    "test_df['score'] = 0\n",
    "\n",
    "# Convert the test dataset to the surprise format\n",
    "test_set = Dataset.load_from_df(test_df, reader).build_full_trainset().build_testset()\n",
    "\n",
    "predictions = []\n",
    "for model in models:\n",
    "    pred = model.test(test_set)\n",
    "    pred_ = [pred.est for pred in pred]\n",
    "    predictions.append(pred_)\n",
    "\n",
    "pred_mean = np.mean(predictions, axis=0)\n",
    "test_df[\"svd\"] = pred_mean"
   ]
  },
  {
   "cell_type": "code",
   "execution_count": 13,
   "metadata": {},
   "outputs": [],
   "source": [
    "test_df.to_csv(os.path.join(configs.OUTPUT_DIR, \"test_addSVDpp.csv\"), index=False)"
   ]
  },
  {
   "cell_type": "code",
   "execution_count": 14,
   "metadata": {},
   "outputs": [
    {
     "data": {
      "text/html": [
       "<div>\n",
       "<style scoped>\n",
       "    .dataframe tbody tr th:only-of-type {\n",
       "        vertical-align: middle;\n",
       "    }\n",
       "\n",
       "    .dataframe tbody tr th {\n",
       "        vertical-align: top;\n",
       "    }\n",
       "\n",
       "    .dataframe thead th {\n",
       "        text-align: right;\n",
       "    }\n",
       "</style>\n",
       "<table border=\"1\" class=\"dataframe\">\n",
       "  <thead>\n",
       "    <tr style=\"text-align: right;\">\n",
       "      <th></th>\n",
       "      <th>user_id</th>\n",
       "      <th>anime_id</th>\n",
       "      <th>score</th>\n",
       "      <th>svd</th>\n",
       "    </tr>\n",
       "  </thead>\n",
       "  <tbody>\n",
       "    <tr>\n",
       "      <th>0</th>\n",
       "      <td>0008e10fb39e55447333</td>\n",
       "      <td>04068820a73e52dc3b32</td>\n",
       "      <td>0</td>\n",
       "      <td>8.095059</td>\n",
       "    </tr>\n",
       "    <tr>\n",
       "      <th>1</th>\n",
       "      <td>0008e10fb39e55447333</td>\n",
       "      <td>04a3d0b122b24965e909</td>\n",
       "      <td>0</td>\n",
       "      <td>8.474763</td>\n",
       "    </tr>\n",
       "    <tr>\n",
       "      <th>2</th>\n",
       "      <td>0008e10fb39e55447333</td>\n",
       "      <td>1447fe1f10b59912d6a8</td>\n",
       "      <td>0</td>\n",
       "      <td>6.309822</td>\n",
       "    </tr>\n",
       "    <tr>\n",
       "      <th>3</th>\n",
       "      <td>0008e10fb39e55447333</td>\n",
       "      <td>2622632598c68682afd5</td>\n",
       "      <td>0</td>\n",
       "      <td>7.674819</td>\n",
       "    </tr>\n",
       "    <tr>\n",
       "      <th>4</th>\n",
       "      <td>0008e10fb39e55447333</td>\n",
       "      <td>2701850c7216516fec46</td>\n",
       "      <td>0</td>\n",
       "      <td>5.383076</td>\n",
       "    </tr>\n",
       "    <tr>\n",
       "      <th>...</th>\n",
       "      <td>...</td>\n",
       "      <td>...</td>\n",
       "      <td>...</td>\n",
       "      <td>...</td>\n",
       "    </tr>\n",
       "    <tr>\n",
       "      <th>117671</th>\n",
       "      <td>ffe85a36cd20500faa58</td>\n",
       "      <td>f508b02efeac8ecb8cc0</td>\n",
       "      <td>0</td>\n",
       "      <td>8.191629</td>\n",
       "    </tr>\n",
       "    <tr>\n",
       "      <th>117672</th>\n",
       "      <td>ffe85a36cd20500faa58</td>\n",
       "      <td>f5b8ecea3beea4b82d79</td>\n",
       "      <td>0</td>\n",
       "      <td>7.662358</td>\n",
       "    </tr>\n",
       "    <tr>\n",
       "      <th>117673</th>\n",
       "      <td>ffe85a36cd20500faa58</td>\n",
       "      <td>f6c208226b6b69948053</td>\n",
       "      <td>0</td>\n",
       "      <td>7.389410</td>\n",
       "    </tr>\n",
       "    <tr>\n",
       "      <th>117674</th>\n",
       "      <td>ffe85a36cd20500faa58</td>\n",
       "      <td>fe67592c312fc1e17745</td>\n",
       "      <td>0</td>\n",
       "      <td>6.965954</td>\n",
       "    </tr>\n",
       "    <tr>\n",
       "      <th>117675</th>\n",
       "      <td>ffe85a36cd20500faa58</td>\n",
       "      <td>ff73475b68001c5e533d</td>\n",
       "      <td>0</td>\n",
       "      <td>6.861687</td>\n",
       "    </tr>\n",
       "  </tbody>\n",
       "</table>\n",
       "<p>117676 rows × 4 columns</p>\n",
       "</div>"
      ],
      "text/plain": [
       "                     user_id              anime_id  score       svd\n",
       "0       0008e10fb39e55447333  04068820a73e52dc3b32      0  8.095059\n",
       "1       0008e10fb39e55447333  04a3d0b122b24965e909      0  8.474763\n",
       "2       0008e10fb39e55447333  1447fe1f10b59912d6a8      0  6.309822\n",
       "3       0008e10fb39e55447333  2622632598c68682afd5      0  7.674819\n",
       "4       0008e10fb39e55447333  2701850c7216516fec46      0  5.383076\n",
       "...                      ...                   ...    ...       ...\n",
       "117671  ffe85a36cd20500faa58  f508b02efeac8ecb8cc0      0  8.191629\n",
       "117672  ffe85a36cd20500faa58  f5b8ecea3beea4b82d79      0  7.662358\n",
       "117673  ffe85a36cd20500faa58  f6c208226b6b69948053      0  7.389410\n",
       "117674  ffe85a36cd20500faa58  fe67592c312fc1e17745      0  6.965954\n",
       "117675  ffe85a36cd20500faa58  ff73475b68001c5e533d      0  6.861687\n",
       "\n",
       "[117676 rows x 4 columns]"
      ]
     },
     "execution_count": 14,
     "metadata": {},
     "output_type": "execute_result"
    }
   ],
   "source": [
    "test_df"
   ]
  },
  {
   "cell_type": "code",
   "execution_count": 15,
   "metadata": {},
   "outputs": [],
   "source": [
    "from sklearn.metrics import mean_squared_error\n",
    "def root_mean_squared_error(y_true, y_pred):\n",
    "    \"\"\"mean_squared_error の root (0.5乗)\"\"\"\n",
    "    return mean_squared_error(y_true, y_pred) ** .5"
   ]
  },
  {
   "cell_type": "code",
   "execution_count": 16,
   "metadata": {},
   "outputs": [
    {
     "name": "stdout",
     "output_type": "stream",
     "text": [
      "1.1907176103307435\n"
     ]
    }
   ],
   "source": [
    "rmse = root_mean_squared_error(oof_df[\"score\"], oof_df[\"svd\"])\n",
    "print(rmse)"
   ]
  },
  {
   "cell_type": "code",
   "execution_count": null,
   "metadata": {},
   "outputs": [],
   "source": []
  }
 ],
 "metadata": {
  "kernelspec": {
   "display_name": "base",
   "language": "python",
   "name": "python3"
  },
  "language_info": {
   "codemirror_mode": {
    "name": "ipython",
    "version": 3
   },
   "file_extension": ".py",
   "mimetype": "text/x-python",
   "name": "python",
   "nbconvert_exporter": "python",
   "pygments_lexer": "ipython3",
   "version": "3.10.10"
  },
  "orig_nbformat": 4
 },
 "nbformat": 4,
 "nbformat_minor": 2
}
