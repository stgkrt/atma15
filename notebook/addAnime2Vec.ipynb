{
 "cells": [
  {
   "cell_type": "code",
   "execution_count": 3,
   "metadata": {},
   "outputs": [],
   "source": [
    "import pandas as pd\n",
    "import numpy as np\n",
    "from sklearn.metrics import mean_squared_error\n",
    "from sklearn.model_selection import GroupKFold, StratifiedKFold\n",
    "\n",
    "import os"
   ]
  },
  {
   "cell_type": "code",
   "execution_count": null,
   "metadata": {},
   "outputs": [],
   "source": []
  },
  {
   "cell_type": "code",
   "execution_count": 4,
   "metadata": {},
   "outputs": [
    {
     "name": "stdout",
     "output_type": "stream",
     "text": [
      "/workspace/working/anime2vec/train_anime2vec.csv\n"
     ]
    }
   ],
   "source": [
    "train_path = os.path.join(\"/workspace\", \"working\", \"anime2vec\",'train_anime2vec.csv')\n",
    "print(train_path)\n",
    "train = pd.read_csv(train_path)\n",
    "train = train.drop([\"fold\", \"score\"], axis=1)\n",
    "features_path = '/workspace/working/svdpp/train_addSVDpp.csv'\n",
    "features = pd.read_csv(features_path)"
   ]
  },
  {
   "cell_type": "code",
   "execution_count": 5,
   "metadata": {},
   "outputs": [],
   "source": [
    "train = pd.merge(train, features[['user_id', 'anime_id', 'fold', 'svd']], on=['user_id', 'anime_id'], how='left')"
   ]
  },
  {
   "cell_type": "code",
   "execution_count": 6,
   "metadata": {},
   "outputs": [
    {
     "data": {
      "text/plain": [
       "Index(['user_id', 'anime_id', 'wo_score_user_factor_0',\n",
       "       'wo_score_user_factor_1', 'wo_score_user_factor_2',\n",
       "       'wo_score_user_factor_3', 'wo_score_user_factor_4',\n",
       "       'wo_score_user_factor_5', 'wo_score_user_factor_6',\n",
       "       'wo_score_user_factor_7', 'wo_score_user_factor_8',\n",
       "       'wo_score_user_factor_9', 'wo_score_user_factor_10',\n",
       "       'wo_score_user_factor_11', 'wo_score_user_factor_12',\n",
       "       'wo_score_user_factor_13', 'wo_score_user_factor_14',\n",
       "       'wo_score_user_factor_15', 'wo_score_user_factor_16',\n",
       "       'wo_score_user_factor_17', 'wo_score_user_factor_18',\n",
       "       'wo_score_user_factor_19', 'wo_score_user_factor_20',\n",
       "       'wo_score_user_factor_21', 'wo_score_user_factor_22',\n",
       "       'wo_score_user_factor_23', 'wo_score_user_factor_24',\n",
       "       'wo_score_user_factor_25', 'wo_score_user_factor_26',\n",
       "       'wo_score_user_factor_27', 'wo_score_user_factor_28',\n",
       "       'wo_score_user_factor_29', 'wo_score_user_factor_30',\n",
       "       'wo_score_user_factor_31', 'wo_score_user_factor_32',\n",
       "       'wo_score_user_factor_33', 'wo_score_user_factor_34',\n",
       "       'wo_score_user_factor_35', 'wo_score_user_factor_36',\n",
       "       'wo_score_user_factor_37', 'wo_score_user_factor_38',\n",
       "       'wo_score_user_factor_39', 'wo_score_user_factor_40',\n",
       "       'wo_score_user_factor_41', 'wo_score_user_factor_42',\n",
       "       'wo_score_user_factor_43', 'wo_score_user_factor_44',\n",
       "       'wo_score_user_factor_45', 'wo_score_user_factor_46',\n",
       "       'wo_score_user_factor_47', 'wo_score_user_factor_48',\n",
       "       'wo_score_user_factor_49', 'wo_score_user_factor_50',\n",
       "       'wo_score_user_factor_51', 'wo_score_user_factor_52',\n",
       "       'wo_score_user_factor_53', 'wo_score_user_factor_54',\n",
       "       'wo_score_user_factor_55', 'wo_score_user_factor_56',\n",
       "       'wo_score_user_factor_57', 'wo_score_user_factor_58',\n",
       "       'wo_score_user_factor_59', 'wo_score_user_factor_60',\n",
       "       'wo_score_user_factor_61', 'wo_score_user_factor_62',\n",
       "       'wo_score_user_factor_63', 'oof', 'seen', 'fold', 'svd'],\n",
       "      dtype='object')"
      ]
     },
     "execution_count": 6,
     "metadata": {},
     "output_type": "execute_result"
    }
   ],
   "source": [
    "train.columns"
   ]
  },
  {
   "cell_type": "code",
   "execution_count": 7,
   "metadata": {},
   "outputs": [
    {
     "name": "stdout",
     "output_type": "stream",
     "text": [
      "/workspace/working/anime2vec/test_anime2vec.csv\n"
     ]
    }
   ],
   "source": [
    "test_path = os.path.join(\"/workspace\", \"working\", \"anime2vec\",'test_anime2vec.csv')\n",
    "print(test_path)\n",
    "test = pd.read_csv(test_path)\n",
    "test = test.drop([\"fold\", \"score\"], axis=1)\n",
    "features_test_path = '/workspace/working/svdpp/test_addSVDpp.csv'\n",
    "features_test = pd.read_csv(features_path)"
   ]
  },
  {
   "cell_type": "code",
   "execution_count": 8,
   "metadata": {},
   "outputs": [],
   "source": [
    "test = pd.merge(test, features_test[['user_id', 'anime_id', 'svd']], on=['user_id', 'anime_id'], how='left')"
   ]
  },
  {
   "cell_type": "code",
   "execution_count": 9,
   "metadata": {},
   "outputs": [
    {
     "data": {
      "text/plain": [
       "Index(['user_id', 'anime_id', 'wo_score_user_factor_0',\n",
       "       'wo_score_user_factor_1', 'wo_score_user_factor_2',\n",
       "       'wo_score_user_factor_3', 'wo_score_user_factor_4',\n",
       "       'wo_score_user_factor_5', 'wo_score_user_factor_6',\n",
       "       'wo_score_user_factor_7',\n",
       "       ...\n",
       "       'item_factor_55', 'item_factor_56', 'item_factor_57', 'item_factor_58',\n",
       "       'item_factor_59', 'item_factor_60', 'item_factor_61', 'item_factor_62',\n",
       "       'item_factor_63', 'svd'],\n",
       "      dtype='object', length=195)"
      ]
     },
     "execution_count": 9,
     "metadata": {},
     "output_type": "execute_result"
    }
   ],
   "source": [
    "test.columns"
   ]
  },
  {
   "cell_type": "code",
   "execution_count": 10,
   "metadata": {},
   "outputs": [],
   "source": [
    "train_save_path = os.path.join(\"/workspace/working/anime_svd\",'train_anime2vec.csv')\n",
    "train.to_csv(train_save_path, index=False)\n",
    "\n",
    "test_save_path = os.path.join(\"/workspace/working/anime_svd\",'test_anime2vec.csv')\n",
    "test.to_csv(test_save_path, index=False)"
   ]
  },
  {
   "cell_type": "code",
   "execution_count": null,
   "metadata": {},
   "outputs": [],
   "source": []
  }
 ],
 "metadata": {
  "kernelspec": {
   "display_name": "base",
   "language": "python",
   "name": "python3"
  },
  "language_info": {
   "codemirror_mode": {
    "name": "ipython",
    "version": 3
   },
   "file_extension": ".py",
   "mimetype": "text/x-python",
   "name": "python",
   "nbconvert_exporter": "python",
   "pygments_lexer": "ipython3",
   "version": "3.10.10"
  },
  "orig_nbformat": 4
 },
 "nbformat": 4,
 "nbformat_minor": 2
}
