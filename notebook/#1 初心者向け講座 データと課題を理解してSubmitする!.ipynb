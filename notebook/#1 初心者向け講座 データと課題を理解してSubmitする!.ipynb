{
 "cells": [
  {
   "cell_type": "markdown",
   "metadata": {},
   "source": [
    "## 目次\n",
    "\n",
    "配信URL: https://youtube.com/live/61lrElGgDSs?feature=share\n",
    "\n",
    "* データを知る\n",
    "* 特徴量を作る\n",
    "* モデルを作る\n",
    "* 結果を解釈する\n",
    "* 予測をして submission file を作る"
   ]
  },
  {
   "cell_type": "code",
   "execution_count": 1,
   "metadata": {},
   "outputs": [],
   "source": [
    "import os\n",
    "from glob import glob\n",
    "\n",
    "import pandas as pd\n",
    "import matplotlib.pyplot as plt\n",
    "import seaborn as sns\n",
    "import numpy as np\n",
    "\n",
    "from contextlib import contextmanager\n",
    "from time import time\n",
    "import matplotlib.pyplot as plt\n",
    "import seaborn as sns\n",
    "\n",
    "%matplotlib inline\n",
    "\n",
    "\n",
    "class Timer:\n",
    "    def __init__(self, logger=None, format_str=\"{:.3f}[s]\", prefix=None, suffix=None, sep=\" \"):\n",
    "\n",
    "        if prefix: format_str = str(prefix) + sep + format_str\n",
    "        if suffix: format_str = format_str + sep + str(suffix)\n",
    "        self.format_str = format_str\n",
    "        self.logger = logger\n",
    "        self.start = None\n",
    "        self.end = None\n",
    "\n",
    "    @property\n",
    "    def duration(self):\n",
    "        if self.end is None:\n",
    "            return 0\n",
    "        return self.end - self.start\n",
    "\n",
    "    def __enter__(self):\n",
    "        self.start = time()\n",
    "\n",
    "    def __exit__(self, exc_type, exc_val, exc_tb):\n",
    "        self.end = time()\n",
    "        out_str = self.format_str.format(self.duration)\n",
    "        if self.logger:\n",
    "            self.logger.info(out_str)\n",
    "        else:\n",
    "            print(out_str)\n"
   ]
  },
  {
   "cell_type": "code",
   "execution_count": 2,
   "metadata": {},
   "outputs": [],
   "source": [
    "# 各自の環境に合わせてパスを書き換えてください\n",
    "# INPUT_DIR: 配布されたデータが格納されているディレクトリ\n",
    "# OUTPUT_DIR: この notebook で作ったファイルを格納するディレクトリ\n",
    "INPUT_DIR = \"/analysis/data/raw/\"\n",
    "OUTPUT_DIR = \"/analysis/data/outputs/tutorial-1\"\n",
    "\n",
    "os.makedirs(OUTPUT_DIR, exist_ok=True)"
   ]
  },
  {
   "cell_type": "code",
   "execution_count": 3,
   "metadata": {},
   "outputs": [
    {
     "data": {
      "text/plain": [
       "['/analysis/data/raw/test.csv',\n",
       " '/analysis/data/raw/anime.csv',\n",
       " '/analysis/data/raw/sample_submission.csv',\n",
       " '/analysis/data/raw/train.csv']"
      ]
     },
     "execution_count": 3,
     "metadata": {},
     "output_type": "execute_result"
    }
   ],
   "source": [
    "# INPUT_DIR には atmacup15 で配布されたデータが入っています.\n",
    "glob(os.path.join(INPUT_DIR, \"*\"))"
   ]
  },
  {
   "cell_type": "code",
   "execution_count": 4,
   "metadata": {},
   "outputs": [],
   "source": [
    "def read_csv(name: str, **kwrgs) -> pd.DataFrame:\n",
    "    p = os.path.join(INPUT_DIR, name + \".csv\")\n",
    "    return pd.read_csv(p, **kwrgs)"
   ]
  },
  {
   "cell_type": "code",
   "execution_count": 5,
   "metadata": {},
   "outputs": [],
   "source": [
    "anime_df = read_csv(\"anime\")\n",
    "\n",
    "train_df = read_csv(\"train\")\n",
    "test_df = read_csv(\"test\")"
   ]
  },
  {
   "cell_type": "code",
   "execution_count": 6,
   "metadata": {},
   "outputs": [
    {
     "data": {
      "text/html": [
       "<div>\n",
       "<style scoped>\n",
       "    .dataframe tbody tr th:only-of-type {\n",
       "        vertical-align: middle;\n",
       "    }\n",
       "\n",
       "    .dataframe tbody tr th {\n",
       "        vertical-align: top;\n",
       "    }\n",
       "\n",
       "    .dataframe thead th {\n",
       "        text-align: right;\n",
       "    }\n",
       "</style>\n",
       "<table border=\"1\" class=\"dataframe\">\n",
       "  <thead>\n",
       "    <tr style=\"text-align: right;\">\n",
       "      <th></th>\n",
       "      <th>user_id</th>\n",
       "      <th>anime_id</th>\n",
       "      <th>score</th>\n",
       "    </tr>\n",
       "  </thead>\n",
       "  <tbody>\n",
       "    <tr>\n",
       "      <th>0</th>\n",
       "      <td>0008e10fb39e55447333</td>\n",
       "      <td>0669cc0219d468761195</td>\n",
       "      <td>2</td>\n",
       "    </tr>\n",
       "    <tr>\n",
       "      <th>1</th>\n",
       "      <td>0008e10fb39e55447333</td>\n",
       "      <td>111adb8835b8a1a2cf54</td>\n",
       "      <td>10</td>\n",
       "    </tr>\n",
       "    <tr>\n",
       "      <th>2</th>\n",
       "      <td>0008e10fb39e55447333</td>\n",
       "      <td>1fc8683c393432a2f9c7</td>\n",
       "      <td>1</td>\n",
       "    </tr>\n",
       "    <tr>\n",
       "      <th>3</th>\n",
       "      <td>0008e10fb39e55447333</td>\n",
       "      <td>2290175205d55e81b197</td>\n",
       "      <td>8</td>\n",
       "    </tr>\n",
       "    <tr>\n",
       "      <th>4</th>\n",
       "      <td>0008e10fb39e55447333</td>\n",
       "      <td>28f173b60331d5cabb0d</td>\n",
       "      <td>9</td>\n",
       "    </tr>\n",
       "  </tbody>\n",
       "</table>\n",
       "</div>"
      ],
      "text/plain": [
       "                user_id              anime_id  score\n",
       "0  0008e10fb39e55447333  0669cc0219d468761195      2\n",
       "1  0008e10fb39e55447333  111adb8835b8a1a2cf54     10\n",
       "2  0008e10fb39e55447333  1fc8683c393432a2f9c7      1\n",
       "3  0008e10fb39e55447333  2290175205d55e81b197      8\n",
       "4  0008e10fb39e55447333  28f173b60331d5cabb0d      9"
      ]
     },
     "execution_count": 6,
     "metadata": {},
     "output_type": "execute_result"
    }
   ],
   "source": [
    "train_df.head()"
   ]
  },
  {
   "cell_type": "markdown",
   "metadata": {},
   "source": [
    "## データを知る\n",
    "\n",
    "まず、コードとかをかかずにわれわれは今どういうデータを取り扱っていて何を予測することが求められているのかについての理解を深めておきましょう。\n",
    "\n",
    "### 1: スキーマ(構造)を確認する\n",
    "\n",
    "一番初めにやることは、コードを書くことではなくデータのスキーマと実際にどういうデータが入っているのかを確認することです。\n",
    "\n",
    "自分が使える情報は何か・それはどのような構造を持っているか・実際にどういう値が入っているかをしっかりと把握してください。今回のデータは train / test 以外にも使えるテーブルがいくつか存在しています。データタブに各テーブルが持っている Field の情報が書かれていますので、ちゃんと読んでおきましょう。\n",
    "\n",
    "### 2: 実際にデータを眺める\n",
    "\n",
    "全体の構造がざっと理解できたら、次は実際にデータをみましょう。この実際に見るというのは pandas で head を print とかではなくて、エクセルで開いて、フィルタなどを活用しながらデータを確認するようなちょっと泥臭い作業を指します。\n",
    "\n",
    "この作業を経ることで、データに対する肌感を感じられます。例えば今回使えるデータはどれも容量が小さいですからローカルでエクセルで開いてみて、ぱっぱっぱーっと見ていくだけでもだいぶ違うでしょう。このとき思ったこと・感じたことは, テーブルごとなどでどこかにメモしておくとあとあとで処理をするときに役に立って感動することがあります。\n",
    "\n",
    "### 3: 集計値を見る"
   ]
  },
  {
   "cell_type": "code",
   "execution_count": 7,
   "metadata": {},
   "outputs": [],
   "source": [
    "# ydata-profiling というライブラリを使います\n",
    "# 昔は pandas-profiling という名前でした.\n",
    "\n",
    "# もし install する場合は以下をコメントアウトしてください。\n",
    "# !pip install -U ydata-profiling"
   ]
  },
  {
   "cell_type": "code",
   "execution_count": 8,
   "metadata": {},
   "outputs": [],
   "source": [
    "from ydata_profiling import ProfileReport"
   ]
  },
  {
   "cell_type": "code",
   "execution_count": 9,
   "metadata": {},
   "outputs": [],
   "source": [
    "report = ProfileReport(anime_df)"
   ]
  },
  {
   "cell_type": "code",
   "execution_count": 10,
   "metadata": {},
   "outputs": [
    {
     "data": {
      "application/vnd.jupyter.widget-view+json": {
       "model_id": "442f64b480a14026a7deacbb3862ef99",
       "version_major": 2,
       "version_minor": 0
      },
      "text/plain": [
       "Summarize dataset:   0%|          | 0/5 [00:00<?, ?it/s]"
      ]
     },
     "metadata": {},
     "output_type": "display_data"
    },
    {
     "data": {
      "application/vnd.jupyter.widget-view+json": {
       "model_id": "58884455ceb94be0af102844f4cd0875",
       "version_major": 2,
       "version_minor": 0
      },
      "text/plain": [
       "Generate report structure:   0%|          | 0/1 [00:00<?, ?it/s]"
      ]
     },
     "metadata": {},
     "output_type": "display_data"
    },
    {
     "data": {
      "application/vnd.jupyter.widget-view+json": {
       "model_id": "859e900548b141bd809f48a31abeca01",
       "version_major": 2,
       "version_minor": 0
      },
      "text/plain": [
       "Render HTML:   0%|          | 0/1 [00:00<?, ?it/s]"
      ]
     },
     "metadata": {},
     "output_type": "display_data"
    },
    {
     "data": {
      "application/vnd.jupyter.widget-view+json": {
       "model_id": "255ec129c01643608fed0da4d3f19e9d",
       "version_major": 2,
       "version_minor": 0
      },
      "text/plain": [
       "Export report to file:   0%|          | 0/1 [00:00<?, ?it/s]"
      ]
     },
     "metadata": {},
     "output_type": "display_data"
    }
   ],
   "source": [
    "report.to_file(os.path.join(OUTPUT_DIR, \"anime_report.html\"))"
   ]
  },
  {
   "cell_type": "code",
   "execution_count": 11,
   "metadata": {},
   "outputs": [],
   "source": [
    "train_repot = ProfileReport(train_df)\n",
    "test_report = ProfileReport(test_df)"
   ]
  },
  {
   "cell_type": "code",
   "execution_count": 12,
   "metadata": {},
   "outputs": [
    {
     "name": "stderr",
     "output_type": "stream",
     "text": [
      "/home/penguin/.conda/lib/python3.7/site-packages/ydata_profiling/compare_reports.py:196: UserWarning: The datasets being profiled have a different set of columns. Only the left side profile will be calculated.\n",
      "  \"The datasets being profiled have a different set of columns. \"\n"
     ]
    },
    {
     "data": {
      "application/vnd.jupyter.widget-view+json": {
       "model_id": "93fc716e03f44c5b8229962de8339d2a",
       "version_major": 2,
       "version_minor": 0
      },
      "text/plain": [
       "Summarize dataset:   0%|          | 0/5 [00:00<?, ?it/s]"
      ]
     },
     "metadata": {},
     "output_type": "display_data"
    },
    {
     "data": {
      "application/vnd.jupyter.widget-view+json": {
       "model_id": "f51418bf2fa84b79a1a8f1cccbb9c350",
       "version_major": 2,
       "version_minor": 0
      },
      "text/plain": [
       "Summarize dataset:   0%|          | 0/5 [00:00<?, ?it/s]"
      ]
     },
     "metadata": {},
     "output_type": "display_data"
    },
    {
     "data": {
      "application/vnd.jupyter.widget-view+json": {
       "model_id": "734ca54ce1c24462adc9e72c2064224d",
       "version_major": 2,
       "version_minor": 0
      },
      "text/plain": [
       "Generate report structure:   0%|          | 0/1 [00:00<?, ?it/s]"
      ]
     },
     "metadata": {},
     "output_type": "display_data"
    },
    {
     "data": {
      "application/vnd.jupyter.widget-view+json": {
       "model_id": "12938a8557334429843bfae26f58098c",
       "version_major": 2,
       "version_minor": 0
      },
      "text/plain": [
       "Render HTML:   0%|          | 0/1 [00:00<?, ?it/s]"
      ]
     },
     "metadata": {},
     "output_type": "display_data"
    },
    {
     "data": {
      "application/vnd.jupyter.widget-view+json": {
       "model_id": "fe9807bb08a64211924aea8f7373972d",
       "version_major": 2,
       "version_minor": 0
      },
      "text/plain": [
       "Export report to file:   0%|          | 0/1 [00:00<?, ?it/s]"
      ]
     },
     "metadata": {},
     "output_type": "display_data"
    }
   ],
   "source": [
    "compare_report = train_repot.compare(test_report)\n",
    "compare_report.to_file(os.path.join(OUTPUT_DIR, \"compare_train_vs_test.html\"))"
   ]
  },
  {
   "cell_type": "markdown",
   "metadata": {},
   "source": [
    "## 機械学習モデルの作成\n",
    "\n",
    "### 機械学習モデルとは\n",
    "\n",
    "機械学習モデルとは、ざっと行ってしまうとあるデータ X を入力として対応する予測値 y を取り出すような関数です。\n",
    "\n",
    "例えば有名なタイタニック問題では、乗客が生きるか死ぬかを予測する問題ですが、X に対応するのは乗客の年齢, 性別, 船室のグレード… といった乗客の情報で y はその乗客が生き残ったかどうかの 0-1 の値、が対応します。この入力Xの情報を特徴量といいます。\n",
    "\n",
    "機械学習では、X を入れると y になるような関数を作ることが目的ですが、この関数の中身のロジックを人が作らないところが大きな特徴です。例えば「性別が男だから助かる確率は 0.2 減る」といったことを人が設計しません。\n",
    "\n",
    "反対に、特徴量 X と予測したい値 y の関係がわかっているデータをアルゴリズムに与えてどういう X なら y=1 (あるいは y=0) になりやすいか? のパターンをみつける、という上記と真逆のアプローチを取ります。この調整のフェーズを学習とよびます。学習には様々なアルゴリズムがありますが、X, y を用意しなくてはならない部分は基本的に変わりません。\n",
    "\n",
    "### 特徴量エンジニアリング\n",
    "\n",
    "特徴量は予測対象に対して紐づくような値 (属性) です。\n",
    "\n",
    "機械学習モデルは基本的に数値しか扱えませんから、何らかの方法で表現したい情報を数値化する必要があります。先のタイタニックで言うと、性別は文字列なので何らかの方法で性別を表すような数字の表現に直す工程が必要です。また、機械学習では画像などを取り扱う場合もありますが、画像であればピクセルの RGB (W x H x 3 の matrix 化) を、自然言語であれば分かち書き等の手法によって、最終的に数値化されて機械学習へとインプットされています。数値への変換は人間の仕事です。\n",
    "\n",
    "この表現を作っていく工程のことを特徴量エンジニアリング (feature engineering) とよびます。特徴量は機械学習が考慮可能な情報を定めているため、ここに y を予想する上で重要な情報を以下に組み込むか? がとても大事です。機械学習アルゴリズムによる差分もありますが、同じアルゴリズムを使っていても特徴量が違うと大きな性能の差が生まれることはよくあります。"
   ]
  },
  {
   "cell_type": "markdown",
   "metadata": {},
   "source": [
    "## 今回の問題の特徴量と予測値\n",
    "\n",
    "今回のタスクは\n",
    "\n",
    "> アニメ作品の情報とユーザーからの評価のデータを元にして、評価のわかっていないユーザー・作品の組に対する評価を予測してください。\n",
    "\n",
    "というものでした。すなわち `train.csv` にあるようにアニメID/ユーザーID という入力 X から、評価 y を求める機械学習モデルを作ることが必要です。\n",
    "\n",
    "特徴量はアニメIDあるいはユーザーIDに紐づくものを用意する必要があることもわかるでしょう。"
   ]
  },
  {
   "cell_type": "markdown",
   "metadata": {},
   "source": [
    "## anime_id 由来の特徴量"
   ]
  },
  {
   "cell_type": "markdown",
   "metadata": {},
   "source": [
    "まずはじめに `anime_id` から紐付けることができる特徴量を考えてみましょう。今回のデータにはアニメの特徴が記載されている `anime.csv` があります。この情報を特徴量として見ましょう。"
   ]
  },
  {
   "cell_type": "code",
   "execution_count": 13,
   "metadata": {},
   "outputs": [
    {
     "data": {
      "text/html": [
       "<div>\n",
       "<style scoped>\n",
       "    .dataframe tbody tr th:only-of-type {\n",
       "        vertical-align: middle;\n",
       "    }\n",
       "\n",
       "    .dataframe tbody tr th {\n",
       "        vertical-align: top;\n",
       "    }\n",
       "\n",
       "    .dataframe thead th {\n",
       "        text-align: right;\n",
       "    }\n",
       "</style>\n",
       "<table border=\"1\" class=\"dataframe\">\n",
       "  <thead>\n",
       "    <tr style=\"text-align: right;\">\n",
       "      <th></th>\n",
       "      <th>anime_id</th>\n",
       "      <th>genres</th>\n",
       "      <th>japanese_name</th>\n",
       "      <th>type</th>\n",
       "      <th>episodes</th>\n",
       "      <th>aired</th>\n",
       "      <th>producers</th>\n",
       "      <th>licensors</th>\n",
       "      <th>studios</th>\n",
       "      <th>source</th>\n",
       "      <th>duration</th>\n",
       "      <th>rating</th>\n",
       "      <th>members</th>\n",
       "      <th>watching</th>\n",
       "      <th>completed</th>\n",
       "      <th>on_hold</th>\n",
       "      <th>dropped</th>\n",
       "      <th>plan_to_watch</th>\n",
       "    </tr>\n",
       "  </thead>\n",
       "  <tbody>\n",
       "    <tr>\n",
       "      <th>0</th>\n",
       "      <td>000ba7f7e34e107e7544</td>\n",
       "      <td>Comedy, Sci-Fi, Seinen, Slice of Life, Space</td>\n",
       "      <td>宇宙兄弟</td>\n",
       "      <td>TV</td>\n",
       "      <td>99</td>\n",
       "      <td>Apr 1, 2012 to Mar 22, 2014</td>\n",
       "      <td>Aniplex, Dentsu, YTV, Trinity Sound</td>\n",
       "      <td>Sentai Filmworks</td>\n",
       "      <td>A-1 Pictures</td>\n",
       "      <td>Manga</td>\n",
       "      <td>24 min. per ep.</td>\n",
       "      <td>PG-13 - Teens 13 or older</td>\n",
       "      <td>150428</td>\n",
       "      <td>16552</td>\n",
       "      <td>37234</td>\n",
       "      <td>13009</td>\n",
       "      <td>6948</td>\n",
       "      <td>76685</td>\n",
       "    </tr>\n",
       "    <tr>\n",
       "      <th>1</th>\n",
       "      <td>00427279d72064e7fb69</td>\n",
       "      <td>Adventure, Slice of Life, Mystery, Historical,...</td>\n",
       "      <td>蟲師</td>\n",
       "      <td>TV</td>\n",
       "      <td>26</td>\n",
       "      <td>Oct 23, 2005 to Jun 19, 2006</td>\n",
       "      <td>Avex Entertainment, Marvelous, SKY Perfect Wel...</td>\n",
       "      <td>Funimation</td>\n",
       "      <td>Artland</td>\n",
       "      <td>Manga</td>\n",
       "      <td>25 min. per ep.</td>\n",
       "      <td>PG-13 - Teens 13 or older</td>\n",
       "      <td>620736</td>\n",
       "      <td>55482</td>\n",
       "      <td>235371</td>\n",
       "      <td>42786</td>\n",
       "      <td>20017</td>\n",
       "      <td>267080</td>\n",
       "    </tr>\n",
       "    <tr>\n",
       "      <th>2</th>\n",
       "      <td>00444b67aaabdf740a68</td>\n",
       "      <td>Adventure, Slice of Life, Mystery, Historical,...</td>\n",
       "      <td>蟲師 続章</td>\n",
       "      <td>TV</td>\n",
       "      <td>10</td>\n",
       "      <td>Apr 5, 2014 to Jun 21, 2014</td>\n",
       "      <td>Aniplex, Kodansha, Delfi Sound</td>\n",
       "      <td>Aniplex of America</td>\n",
       "      <td>Artland</td>\n",
       "      <td>Manga</td>\n",
       "      <td>24 min. per ep.</td>\n",
       "      <td>PG-13 - Teens 13 or older</td>\n",
       "      <td>226522</td>\n",
       "      <td>12585</td>\n",
       "      <td>113559</td>\n",
       "      <td>6095</td>\n",
       "      <td>2606</td>\n",
       "      <td>91677</td>\n",
       "    </tr>\n",
       "    <tr>\n",
       "      <th>3</th>\n",
       "      <td>00839a3507ab168abe75</td>\n",
       "      <td>Comedy, Ecchi, Fantasy, School</td>\n",
       "      <td>星刻の竜騎士</td>\n",
       "      <td>TV</td>\n",
       "      <td>12</td>\n",
       "      <td>Apr 5, 2014 to Jun 21, 2014</td>\n",
       "      <td>Media Factory, AT-X, Sony Music Communications...</td>\n",
       "      <td>Funimation</td>\n",
       "      <td>C-Station</td>\n",
       "      <td>Light novel</td>\n",
       "      <td>24 min. per ep.</td>\n",
       "      <td>R+ - Mild Nudity</td>\n",
       "      <td>170220</td>\n",
       "      <td>8723</td>\n",
       "      <td>118202</td>\n",
       "      <td>3753</td>\n",
       "      <td>8034</td>\n",
       "      <td>31508</td>\n",
       "    </tr>\n",
       "    <tr>\n",
       "      <th>4</th>\n",
       "      <td>0192331235e110fe4f76</td>\n",
       "      <td>Comedy, Harem, Romance, Sci-Fi, Shounen, Space</td>\n",
       "      <td>天地無用！</td>\n",
       "      <td>TV</td>\n",
       "      <td>26</td>\n",
       "      <td>Apr 2, 1995 to Sep 24, 1995</td>\n",
       "      <td>TV Tokyo, Pioneer LDC</td>\n",
       "      <td>Funimation, Geneon Entertainment USA</td>\n",
       "      <td>AIC</td>\n",
       "      <td>Original</td>\n",
       "      <td>23 min. per ep.</td>\n",
       "      <td>PG-13 - Teens 13 or older</td>\n",
       "      <td>62599</td>\n",
       "      <td>2565</td>\n",
       "      <td>39890</td>\n",
       "      <td>2093</td>\n",
       "      <td>1986</td>\n",
       "      <td>16065</td>\n",
       "    </tr>\n",
       "  </tbody>\n",
       "</table>\n",
       "</div>"
      ],
      "text/plain": [
       "               anime_id                                             genres  \\\n",
       "0  000ba7f7e34e107e7544       Comedy, Sci-Fi, Seinen, Slice of Life, Space   \n",
       "1  00427279d72064e7fb69  Adventure, Slice of Life, Mystery, Historical,...   \n",
       "2  00444b67aaabdf740a68  Adventure, Slice of Life, Mystery, Historical,...   \n",
       "3  00839a3507ab168abe75                     Comedy, Ecchi, Fantasy, School   \n",
       "4  0192331235e110fe4f76     Comedy, Harem, Romance, Sci-Fi, Shounen, Space   \n",
       "\n",
       "  japanese_name type episodes                         aired  \\\n",
       "0          宇宙兄弟   TV       99   Apr 1, 2012 to Mar 22, 2014   \n",
       "1            蟲師   TV       26  Oct 23, 2005 to Jun 19, 2006   \n",
       "2         蟲師 続章   TV       10   Apr 5, 2014 to Jun 21, 2014   \n",
       "3        星刻の竜騎士   TV       12   Apr 5, 2014 to Jun 21, 2014   \n",
       "4         天地無用！   TV       26   Apr 2, 1995 to Sep 24, 1995   \n",
       "\n",
       "                                           producers  \\\n",
       "0                Aniplex, Dentsu, YTV, Trinity Sound   \n",
       "1  Avex Entertainment, Marvelous, SKY Perfect Wel...   \n",
       "2                     Aniplex, Kodansha, Delfi Sound   \n",
       "3  Media Factory, AT-X, Sony Music Communications...   \n",
       "4                              TV Tokyo, Pioneer LDC   \n",
       "\n",
       "                              licensors       studios       source  \\\n",
       "0                      Sentai Filmworks  A-1 Pictures        Manga   \n",
       "1                            Funimation       Artland        Manga   \n",
       "2                    Aniplex of America       Artland        Manga   \n",
       "3                            Funimation     C-Station  Light novel   \n",
       "4  Funimation, Geneon Entertainment USA           AIC     Original   \n",
       "\n",
       "          duration                     rating  members  watching  completed  \\\n",
       "0  24 min. per ep.  PG-13 - Teens 13 or older   150428     16552      37234   \n",
       "1  25 min. per ep.  PG-13 - Teens 13 or older   620736     55482     235371   \n",
       "2  24 min. per ep.  PG-13 - Teens 13 or older   226522     12585     113559   \n",
       "3  24 min. per ep.           R+ - Mild Nudity   170220      8723     118202   \n",
       "4  23 min. per ep.  PG-13 - Teens 13 or older    62599      2565      39890   \n",
       "\n",
       "   on_hold  dropped  plan_to_watch  \n",
       "0    13009     6948          76685  \n",
       "1    42786    20017         267080  \n",
       "2     6095     2606          91677  \n",
       "3     3753     8034          31508  \n",
       "4     2093     1986          16065  "
      ]
     },
     "execution_count": 13,
     "metadata": {},
     "output_type": "execute_result"
    }
   ],
   "source": [
    "anime_df.head()"
   ]
  },
  {
   "cell_type": "markdown",
   "metadata": {},
   "source": [
    "### 数値な特徴量\n",
    "\n",
    "Profiling Report によると members は数字の列なので、特徴量としてそのまま使えそうです。"
   ]
  },
  {
   "cell_type": "code",
   "execution_count": 14,
   "metadata": {},
   "outputs": [
    {
     "data": {
      "text/plain": [
       "0       150428\n",
       "1       620736\n",
       "2       226522\n",
       "3       170220\n",
       "4        62599\n",
       "         ...  \n",
       "1995     65360\n",
       "1996     93558\n",
       "1997    426616\n",
       "1998    178908\n",
       "1999     66799\n",
       "Name: members, Length: 2000, dtype: int64"
      ]
     },
     "execution_count": 14,
     "metadata": {},
     "output_type": "execute_result"
    }
   ],
   "source": [
    "anime_df[\"members\"]"
   ]
  },
  {
   "cell_type": "code",
   "execution_count": 15,
   "metadata": {},
   "outputs": [],
   "source": [
    "def merge_by_anime_id(left_df, right_df):\n",
    "    return pd.merge(left_df[\"anime_id\"], right_df, on=\"anime_id\", how=\"left\").drop(columns=[\"anime_id\"])"
   ]
  },
  {
   "cell_type": "code",
   "execution_count": 16,
   "metadata": {},
   "outputs": [],
   "source": [
    "def create_anime_numeric_feature(input_df: pd.DataFrame):\n",
    "    \"\"\"input_dfは train or test.csv のデータが入ってくることを想定しています.\"\"\"\n",
    "    \n",
    "    use_columns = [\n",
    "        \"members\", \n",
    "    ]\n",
    "    \n",
    "    return merge_by_anime_id(input_df, anime_df)[use_columns]"
   ]
  },
  {
   "cell_type": "code",
   "execution_count": 17,
   "metadata": {},
   "outputs": [
    {
     "data": {
      "text/html": [
       "<div>\n",
       "<style scoped>\n",
       "    .dataframe tbody tr th:only-of-type {\n",
       "        vertical-align: middle;\n",
       "    }\n",
       "\n",
       "    .dataframe tbody tr th {\n",
       "        vertical-align: top;\n",
       "    }\n",
       "\n",
       "    .dataframe thead th {\n",
       "        text-align: right;\n",
       "    }\n",
       "</style>\n",
       "<table border=\"1\" class=\"dataframe\">\n",
       "  <thead>\n",
       "    <tr style=\"text-align: right;\">\n",
       "      <th></th>\n",
       "      <th>members</th>\n",
       "    </tr>\n",
       "  </thead>\n",
       "  <tbody>\n",
       "    <tr>\n",
       "      <th>0</th>\n",
       "      <td>542642</td>\n",
       "    </tr>\n",
       "    <tr>\n",
       "      <th>1</th>\n",
       "      <td>650309</td>\n",
       "    </tr>\n",
       "    <tr>\n",
       "      <th>2</th>\n",
       "      <td>137560</td>\n",
       "    </tr>\n",
       "    <tr>\n",
       "      <th>3</th>\n",
       "      <td>1255830</td>\n",
       "    </tr>\n",
       "    <tr>\n",
       "      <th>4</th>\n",
       "      <td>97346</td>\n",
       "    </tr>\n",
       "    <tr>\n",
       "      <th>...</th>\n",
       "      <td>...</td>\n",
       "    </tr>\n",
       "    <tr>\n",
       "      <th>136396</th>\n",
       "      <td>271047</td>\n",
       "    </tr>\n",
       "    <tr>\n",
       "      <th>136397</th>\n",
       "      <td>591140</td>\n",
       "    </tr>\n",
       "    <tr>\n",
       "      <th>136398</th>\n",
       "      <td>159116</td>\n",
       "    </tr>\n",
       "    <tr>\n",
       "      <th>136399</th>\n",
       "      <td>1133952</td>\n",
       "    </tr>\n",
       "    <tr>\n",
       "      <th>136400</th>\n",
       "      <td>437765</td>\n",
       "    </tr>\n",
       "  </tbody>\n",
       "</table>\n",
       "<p>136401 rows × 1 columns</p>\n",
       "</div>"
      ],
      "text/plain": [
       "        members\n",
       "0        542642\n",
       "1        650309\n",
       "2        137560\n",
       "3       1255830\n",
       "4         97346\n",
       "...         ...\n",
       "136396   271047\n",
       "136397   591140\n",
       "136398   159116\n",
       "136399  1133952\n",
       "136400   437765\n",
       "\n",
       "[136401 rows x 1 columns]"
      ]
     },
     "execution_count": 17,
     "metadata": {},
     "output_type": "execute_result"
    }
   ],
   "source": [
    "create_anime_numeric_feature(train_df)"
   ]
  },
  {
   "cell_type": "markdown",
   "metadata": {},
   "source": [
    "### カテゴリな特徴量\n",
    "\n",
    "カテゴリ変数の列もあります。例えば `\"type\"` などですね! これは文字列のためそのままでは特徴量として使うことができません。"
   ]
  },
  {
   "cell_type": "code",
   "execution_count": 18,
   "metadata": {},
   "outputs": [
    {
     "data": {
      "text/plain": [
       "0       TV\n",
       "1       TV\n",
       "2       TV\n",
       "3       TV\n",
       "4       TV\n",
       "        ..\n",
       "1995    TV\n",
       "1996    TV\n",
       "1997    TV\n",
       "1998    TV\n",
       "1999    TV\n",
       "Name: type, Length: 2000, dtype: object"
      ]
     },
     "execution_count": 18,
     "metadata": {},
     "output_type": "execute_result"
    }
   ],
   "source": [
    "anime_df[\"type\"]"
   ]
  },
  {
   "cell_type": "code",
   "execution_count": 19,
   "metadata": {},
   "outputs": [
    {
     "data": {
      "text/plain": [
       "<AxesSubplot:>"
      ]
     },
     "execution_count": 19,
     "metadata": {},
     "output_type": "execute_result"
    },
    {
     "data": {
      "image/png": "[encoded data removed]",
      "text/plain": [
       "<Figure size 432x288 with 1 Axes>"
      ]
     },
     "metadata": {
      "needs_background": "light"
     },
     "output_type": "display_data"
    }
   ],
   "source": [
    "anime_df[\"type\"].value_counts().plot(kind=\"bar\")"
   ]
  },
  {
   "cell_type": "markdown",
   "metadata": {},
   "source": [
    "type は出てくる文字列の種類が決まっていて、自由入力のような形式ではないことがわかります。このような変数はカテゴリ変数と呼ばれます。"
   ]
  },
  {
   "cell_type": "markdown",
   "metadata": {},
   "source": [
    "カテゴリ変数を特徴量にする方法はいくつもありますが、ここでは CountEncoding と OneHotEncoding を紹介します。"
   ]
  },
  {
   "cell_type": "markdown",
   "metadata": {},
   "source": [
    "### CountEncoding\n",
    "\n",
    "見ての通りではありますが、カテゴリの値をその出現回数 (Count) で置き換える方法です。"
   ]
  },
  {
   "cell_type": "code",
   "execution_count": 20,
   "metadata": {},
   "outputs": [
    {
     "data": {
      "text/plain": [
       "0       1436\n",
       "1       1436\n",
       "2       1436\n",
       "3       1436\n",
       "4       1436\n",
       "        ... \n",
       "1995    1436\n",
       "1996    1436\n",
       "1997    1436\n",
       "1998    1436\n",
       "1999    1436\n",
       "Name: type, Length: 2000, dtype: int64"
      ]
     },
     "execution_count": 20,
     "metadata": {},
     "output_type": "execute_result"
    }
   ],
   "source": [
    "# 実装のスケッチ.\n",
    "# TV → 1436 に変換されていることがわかる\n",
    "anime_df[\"type\"].map(anime_df[\"type\"].value_counts())"
   ]
  },
  {
   "cell_type": "code",
   "execution_count": 21,
   "metadata": {},
   "outputs": [],
   "source": [
    "# 関数にしておきましょう!\n",
    "\n",
    "def create_anime_type_count_encoding(input_df):\n",
    "    count = anime_df[\"type\"].map(anime_df[\"type\"].value_counts())\n",
    "    encoded_df = pd.DataFrame({\n",
    "        \"anime_id\": anime_df[\"anime_id\"],\n",
    "        \"tyoe_count\": count\n",
    "    })\n",
    "    \n",
    "    return merge_by_anime_id(input_df, encoded_df)"
   ]
  },
  {
   "cell_type": "code",
   "execution_count": 22,
   "metadata": {},
   "outputs": [
    {
     "data": {
      "text/html": [
       "<div>\n",
       "<style scoped>\n",
       "    .dataframe tbody tr th:only-of-type {\n",
       "        vertical-align: middle;\n",
       "    }\n",
       "\n",
       "    .dataframe tbody tr th {\n",
       "        vertical-align: top;\n",
       "    }\n",
       "\n",
       "    .dataframe thead th {\n",
       "        text-align: right;\n",
       "    }\n",
       "</style>\n",
       "<table border=\"1\" class=\"dataframe\">\n",
       "  <thead>\n",
       "    <tr style=\"text-align: right;\">\n",
       "      <th></th>\n",
       "      <th>tyoe_count</th>\n",
       "    </tr>\n",
       "  </thead>\n",
       "  <tbody>\n",
       "    <tr>\n",
       "      <th>0</th>\n",
       "      <td>1436</td>\n",
       "    </tr>\n",
       "    <tr>\n",
       "      <th>1</th>\n",
       "      <td>50</td>\n",
       "    </tr>\n",
       "    <tr>\n",
       "      <th>2</th>\n",
       "      <td>142</td>\n",
       "    </tr>\n",
       "    <tr>\n",
       "      <th>3</th>\n",
       "      <td>1436</td>\n",
       "    </tr>\n",
       "    <tr>\n",
       "      <th>4</th>\n",
       "      <td>97</td>\n",
       "    </tr>\n",
       "    <tr>\n",
       "      <th>...</th>\n",
       "      <td>...</td>\n",
       "    </tr>\n",
       "    <tr>\n",
       "      <th>136396</th>\n",
       "      <td>1436</td>\n",
       "    </tr>\n",
       "    <tr>\n",
       "      <th>136397</th>\n",
       "      <td>1436</td>\n",
       "    </tr>\n",
       "    <tr>\n",
       "      <th>136398</th>\n",
       "      <td>1436</td>\n",
       "    </tr>\n",
       "    <tr>\n",
       "      <th>136399</th>\n",
       "      <td>1436</td>\n",
       "    </tr>\n",
       "    <tr>\n",
       "      <th>136400</th>\n",
       "      <td>1436</td>\n",
       "    </tr>\n",
       "  </tbody>\n",
       "</table>\n",
       "<p>136401 rows × 1 columns</p>\n",
       "</div>"
      ],
      "text/plain": [
       "        tyoe_count\n",
       "0             1436\n",
       "1               50\n",
       "2              142\n",
       "3             1436\n",
       "4               97\n",
       "...            ...\n",
       "136396        1436\n",
       "136397        1436\n",
       "136398        1436\n",
       "136399        1436\n",
       "136400        1436\n",
       "\n",
       "[136401 rows x 1 columns]"
      ]
     },
     "execution_count": 22,
     "metadata": {},
     "output_type": "execute_result"
    }
   ],
   "source": [
    "create_anime_type_count_encoding(train_df)"
   ]
  },
  {
   "cell_type": "markdown",
   "metadata": {},
   "source": [
    "### OneHotEncoding\n",
    "\n",
    "カテゴリがある値のとき 1 そうでないとき 0 というような 0-1 のフラグに置き換える方法です。CountEncoding よりも元の列の情報を残すことができますが、一方でカテゴリのユニークな値の数 N だけ列が必要になるため、\n",
    "\n",
    "1. カテゴリのユニーク数が多いときには、列が膨大になりメモリに乗らなくなる可能性があることと\n",
    "2. 情報が多数の列に分散して疎な状態 (スパース) になり、機械学習モデルがうまく列の情報を使えなくなる可能性があること\n",
    "\n",
    "の2点に注意が必要です。"
   ]
  },
  {
   "cell_type": "code",
   "execution_count": 23,
   "metadata": {},
   "outputs": [],
   "source": [
    "# 実装のスケッチ\n",
    "\n",
    "# 対象の列のユニーク集合を取る\n",
    "target_colname = \"type\"\n",
    "target_series = anime_df[target_colname]\n",
    "unique_values = target_series.unique()\n",
    "\n",
    "# ユニークな値ごとに列を作る\n",
    "out_df = pd.DataFrame()\n",
    "for value in unique_values:\n",
    "    is_value = target_series == value\n",
    "    out_df[value] = is_value.astype(int)"
   ]
  },
  {
   "cell_type": "code",
   "execution_count": 24,
   "metadata": {},
   "outputs": [
    {
     "data": {
      "text/html": [
       "<div>\n",
       "<style scoped>\n",
       "    .dataframe tbody tr th:only-of-type {\n",
       "        vertical-align: middle;\n",
       "    }\n",
       "\n",
       "    .dataframe tbody tr th {\n",
       "        vertical-align: top;\n",
       "    }\n",
       "\n",
       "    .dataframe thead th {\n",
       "        text-align: right;\n",
       "    }\n",
       "</style>\n",
       "<table border=\"1\" class=\"dataframe\">\n",
       "  <thead>\n",
       "    <tr style=\"text-align: right;\">\n",
       "      <th></th>\n",
       "      <th>TV</th>\n",
       "      <th>Special</th>\n",
       "      <th>Movie</th>\n",
       "      <th>Unknown</th>\n",
       "      <th>ONA</th>\n",
       "      <th>OVA</th>\n",
       "      <th>Music</th>\n",
       "    </tr>\n",
       "  </thead>\n",
       "  <tbody>\n",
       "    <tr>\n",
       "      <th>0</th>\n",
       "      <td>1</td>\n",
       "      <td>0</td>\n",
       "      <td>0</td>\n",
       "      <td>0</td>\n",
       "      <td>0</td>\n",
       "      <td>0</td>\n",
       "      <td>0</td>\n",
       "    </tr>\n",
       "    <tr>\n",
       "      <th>1</th>\n",
       "      <td>1</td>\n",
       "      <td>0</td>\n",
       "      <td>0</td>\n",
       "      <td>0</td>\n",
       "      <td>0</td>\n",
       "      <td>0</td>\n",
       "      <td>0</td>\n",
       "    </tr>\n",
       "    <tr>\n",
       "      <th>2</th>\n",
       "      <td>1</td>\n",
       "      <td>0</td>\n",
       "      <td>0</td>\n",
       "      <td>0</td>\n",
       "      <td>0</td>\n",
       "      <td>0</td>\n",
       "      <td>0</td>\n",
       "    </tr>\n",
       "    <tr>\n",
       "      <th>3</th>\n",
       "      <td>1</td>\n",
       "      <td>0</td>\n",
       "      <td>0</td>\n",
       "      <td>0</td>\n",
       "      <td>0</td>\n",
       "      <td>0</td>\n",
       "      <td>0</td>\n",
       "    </tr>\n",
       "    <tr>\n",
       "      <th>4</th>\n",
       "      <td>1</td>\n",
       "      <td>0</td>\n",
       "      <td>0</td>\n",
       "      <td>0</td>\n",
       "      <td>0</td>\n",
       "      <td>0</td>\n",
       "      <td>0</td>\n",
       "    </tr>\n",
       "    <tr>\n",
       "      <th>...</th>\n",
       "      <td>...</td>\n",
       "      <td>...</td>\n",
       "      <td>...</td>\n",
       "      <td>...</td>\n",
       "      <td>...</td>\n",
       "      <td>...</td>\n",
       "      <td>...</td>\n",
       "    </tr>\n",
       "    <tr>\n",
       "      <th>1995</th>\n",
       "      <td>1</td>\n",
       "      <td>0</td>\n",
       "      <td>0</td>\n",
       "      <td>0</td>\n",
       "      <td>0</td>\n",
       "      <td>0</td>\n",
       "      <td>0</td>\n",
       "    </tr>\n",
       "    <tr>\n",
       "      <th>1996</th>\n",
       "      <td>1</td>\n",
       "      <td>0</td>\n",
       "      <td>0</td>\n",
       "      <td>0</td>\n",
       "      <td>0</td>\n",
       "      <td>0</td>\n",
       "      <td>0</td>\n",
       "    </tr>\n",
       "    <tr>\n",
       "      <th>1997</th>\n",
       "      <td>1</td>\n",
       "      <td>0</td>\n",
       "      <td>0</td>\n",
       "      <td>0</td>\n",
       "      <td>0</td>\n",
       "      <td>0</td>\n",
       "      <td>0</td>\n",
       "    </tr>\n",
       "    <tr>\n",
       "      <th>1998</th>\n",
       "      <td>1</td>\n",
       "      <td>0</td>\n",
       "      <td>0</td>\n",
       "      <td>0</td>\n",
       "      <td>0</td>\n",
       "      <td>0</td>\n",
       "      <td>0</td>\n",
       "    </tr>\n",
       "    <tr>\n",
       "      <th>1999</th>\n",
       "      <td>1</td>\n",
       "      <td>0</td>\n",
       "      <td>0</td>\n",
       "      <td>0</td>\n",
       "      <td>0</td>\n",
       "      <td>0</td>\n",
       "      <td>0</td>\n",
       "    </tr>\n",
       "  </tbody>\n",
       "</table>\n",
       "<p>2000 rows × 7 columns</p>\n",
       "</div>"
      ],
      "text/plain": [
       "      TV  Special  Movie  Unknown  ONA  OVA  Music\n",
       "0      1        0      0        0    0    0      0\n",
       "1      1        0      0        0    0    0      0\n",
       "2      1        0      0        0    0    0      0\n",
       "3      1        0      0        0    0    0      0\n",
       "4      1        0      0        0    0    0      0\n",
       "...   ..      ...    ...      ...  ...  ...    ...\n",
       "1995   1        0      0        0    0    0      0\n",
       "1996   1        0      0        0    0    0      0\n",
       "1997   1        0      0        0    0    0      0\n",
       "1998   1        0      0        0    0    0      0\n",
       "1999   1        0      0        0    0    0      0\n",
       "\n",
       "[2000 rows x 7 columns]"
      ]
     },
     "execution_count": 24,
     "metadata": {},
     "output_type": "execute_result"
    }
   ],
   "source": [
    "# こんなふうな 0-1 の Matrix になる\n",
    "out_df"
   ]
  },
  {
   "cell_type": "code",
   "execution_count": 25,
   "metadata": {},
   "outputs": [
    {
     "data": {
      "text/plain": [
       "<AxesSubplot:>"
      ]
     },
     "execution_count": 25,
     "metadata": {},
     "output_type": "execute_result"
    },
    {
     "data": {
      "image/png": "[encoded data removed]",
      "text/plain": [
       "<Figure size 1080x288 with 2 Axes>"
      ]
     },
     "metadata": {
      "needs_background": "light"
     },
     "output_type": "display_data"
    }
   ],
   "source": [
    "# heatmap で可視化. 青色が濃い部分が 1 なのでその行が特定の値であることを示す (ぱっと見るだけで TV が多そうですね)\n",
    "fig, ax = plt.subplots(figsize=(15, 4))\n",
    "sns.heatmap(out_df.T, ax=ax, cmap=\"Blues\", )"
   ]
  },
  {
   "cell_type": "code",
   "execution_count": 26,
   "metadata": {},
   "outputs": [],
   "source": [
    "# 関数にしておきましょう!\n",
    "\n",
    "def create_anime_type_one_hot_encoding(input_df):\n",
    "    \n",
    "    # 対象の列のユニーク集合を取る\n",
    "    target_colname = \"type\"\n",
    "    target_series = anime_df[target_colname]\n",
    "    unique_values = target_series.unique()\n",
    "\n",
    "    # ユニークな値ごとに列を作る\n",
    "    out_df = pd.DataFrame()\n",
    "    for value in unique_values:\n",
    "        is_value = target_series == value\n",
    "        out_df[value] = is_value.astype(int)\n",
    "        \n",
    "    out_df[\"anime_id\"] = anime_df[\"anime_id\"]\n",
    "    \n",
    "    return merge_by_anime_id(input_df, out_df)"
   ]
  },
  {
   "cell_type": "code",
   "execution_count": 27,
   "metadata": {},
   "outputs": [
    {
     "data": {
      "text/html": [
       "<div>\n",
       "<style scoped>\n",
       "    .dataframe tbody tr th:only-of-type {\n",
       "        vertical-align: middle;\n",
       "    }\n",
       "\n",
       "    .dataframe tbody tr th {\n",
       "        vertical-align: top;\n",
       "    }\n",
       "\n",
       "    .dataframe thead th {\n",
       "        text-align: right;\n",
       "    }\n",
       "</style>\n",
       "<table border=\"1\" class=\"dataframe\">\n",
       "  <thead>\n",
       "    <tr style=\"text-align: right;\">\n",
       "      <th></th>\n",
       "      <th>TV</th>\n",
       "      <th>Special</th>\n",
       "      <th>Movie</th>\n",
       "      <th>Unknown</th>\n",
       "      <th>ONA</th>\n",
       "      <th>OVA</th>\n",
       "      <th>Music</th>\n",
       "    </tr>\n",
       "  </thead>\n",
       "  <tbody>\n",
       "    <tr>\n",
       "      <th>0</th>\n",
       "      <td>1</td>\n",
       "      <td>0</td>\n",
       "      <td>0</td>\n",
       "      <td>0</td>\n",
       "      <td>0</td>\n",
       "      <td>0</td>\n",
       "      <td>0</td>\n",
       "    </tr>\n",
       "    <tr>\n",
       "      <th>1</th>\n",
       "      <td>0</td>\n",
       "      <td>0</td>\n",
       "      <td>0</td>\n",
       "      <td>0</td>\n",
       "      <td>1</td>\n",
       "      <td>0</td>\n",
       "      <td>0</td>\n",
       "    </tr>\n",
       "    <tr>\n",
       "      <th>2</th>\n",
       "      <td>0</td>\n",
       "      <td>0</td>\n",
       "      <td>0</td>\n",
       "      <td>0</td>\n",
       "      <td>0</td>\n",
       "      <td>1</td>\n",
       "      <td>0</td>\n",
       "    </tr>\n",
       "    <tr>\n",
       "      <th>3</th>\n",
       "      <td>1</td>\n",
       "      <td>0</td>\n",
       "      <td>0</td>\n",
       "      <td>0</td>\n",
       "      <td>0</td>\n",
       "      <td>0</td>\n",
       "      <td>0</td>\n",
       "    </tr>\n",
       "    <tr>\n",
       "      <th>4</th>\n",
       "      <td>0</td>\n",
       "      <td>1</td>\n",
       "      <td>0</td>\n",
       "      <td>0</td>\n",
       "      <td>0</td>\n",
       "      <td>0</td>\n",
       "      <td>0</td>\n",
       "    </tr>\n",
       "    <tr>\n",
       "      <th>...</th>\n",
       "      <td>...</td>\n",
       "      <td>...</td>\n",
       "      <td>...</td>\n",
       "      <td>...</td>\n",
       "      <td>...</td>\n",
       "      <td>...</td>\n",
       "      <td>...</td>\n",
       "    </tr>\n",
       "    <tr>\n",
       "      <th>136396</th>\n",
       "      <td>1</td>\n",
       "      <td>0</td>\n",
       "      <td>0</td>\n",
       "      <td>0</td>\n",
       "      <td>0</td>\n",
       "      <td>0</td>\n",
       "      <td>0</td>\n",
       "    </tr>\n",
       "    <tr>\n",
       "      <th>136397</th>\n",
       "      <td>1</td>\n",
       "      <td>0</td>\n",
       "      <td>0</td>\n",
       "      <td>0</td>\n",
       "      <td>0</td>\n",
       "      <td>0</td>\n",
       "      <td>0</td>\n",
       "    </tr>\n",
       "    <tr>\n",
       "      <th>136398</th>\n",
       "      <td>1</td>\n",
       "      <td>0</td>\n",
       "      <td>0</td>\n",
       "      <td>0</td>\n",
       "      <td>0</td>\n",
       "      <td>0</td>\n",
       "      <td>0</td>\n",
       "    </tr>\n",
       "    <tr>\n",
       "      <th>136399</th>\n",
       "      <td>1</td>\n",
       "      <td>0</td>\n",
       "      <td>0</td>\n",
       "      <td>0</td>\n",
       "      <td>0</td>\n",
       "      <td>0</td>\n",
       "      <td>0</td>\n",
       "    </tr>\n",
       "    <tr>\n",
       "      <th>136400</th>\n",
       "      <td>1</td>\n",
       "      <td>0</td>\n",
       "      <td>0</td>\n",
       "      <td>0</td>\n",
       "      <td>0</td>\n",
       "      <td>0</td>\n",
       "      <td>0</td>\n",
       "    </tr>\n",
       "  </tbody>\n",
       "</table>\n",
       "<p>136401 rows × 7 columns</p>\n",
       "</div>"
      ],
      "text/plain": [
       "        TV  Special  Movie  Unknown  ONA  OVA  Music\n",
       "0        1        0      0        0    0    0      0\n",
       "1        0        0      0        0    1    0      0\n",
       "2        0        0      0        0    0    1      0\n",
       "3        1        0      0        0    0    0      0\n",
       "4        0        1      0        0    0    0      0\n",
       "...     ..      ...    ...      ...  ...  ...    ...\n",
       "136396   1        0      0        0    0    0      0\n",
       "136397   1        0      0        0    0    0      0\n",
       "136398   1        0      0        0    0    0      0\n",
       "136399   1        0      0        0    0    0      0\n",
       "136400   1        0      0        0    0    0      0\n",
       "\n",
       "[136401 rows x 7 columns]"
      ]
     },
     "execution_count": 27,
     "metadata": {},
     "output_type": "execute_result"
    }
   ],
   "source": [
    "# 確認!\n",
    "create_anime_type_one_hot_encoding(train_df)"
   ]
  },
  {
   "cell_type": "markdown",
   "metadata": {},
   "source": [
    "### Q: ユーザーID由来の特徴量はどのようなものが考えられるでしょうか?"
   ]
  },
  {
   "cell_type": "markdown",
   "metadata": {},
   "source": [
    "> hint: 例えば「全部で何作品みている?」などは特徴量として使えそうですね。"
   ]
  },
  {
   "cell_type": "markdown",
   "metadata": {},
   "source": [
    "## 特徴量のマージ\n",
    "\n",
    "上記の特徴量作成関数を連続的に呼び出し & 結合して、学習に使う特徴量全体にしましょう。"
   ]
  },
  {
   "cell_type": "code",
   "execution_count": 28,
   "metadata": {},
   "outputs": [],
   "source": [
    "def create_feature(input_df):\n",
    "    \n",
    "    # functions に特徴量作成関数を配列で定義しました.\n",
    "    # どの関数も同じ input / output のインターフェイスなので for で回せて嬉しいですね ;)\n",
    "    functions = [\n",
    "        create_anime_numeric_feature,\n",
    "        create_anime_type_count_encoding,\n",
    "        create_anime_type_one_hot_encoding,\n",
    "    ]\n",
    "    \n",
    "    out_df = pd.DataFrame()\n",
    "    for func in functions:\n",
    "        func_name = str(func.__name__)\n",
    "        with Timer(prefix=f\"create {func_name}\"):\n",
    "            _df = func(input_df)\n",
    "        out_df = pd.concat([out_df, _df], axis=1)\n",
    "        \n",
    "    return out_df"
   ]
  },
  {
   "cell_type": "code",
   "execution_count": 29,
   "metadata": {},
   "outputs": [
    {
     "name": "stdout",
     "output_type": "stream",
     "text": [
      "create create_anime_numeric_feature 0.054[s]\n",
      "create create_anime_type_count_encoding 0.013[s]\n",
      "create create_anime_type_one_hot_encoding 0.017[s]\n",
      "train... 0.088[s]\n",
      "create create_anime_numeric_feature 0.045[s]\n",
      "create create_anime_type_count_encoding 0.011[s]\n",
      "create create_anime_type_one_hot_encoding 0.016[s]\n",
      "test... 0.074[s]\n"
     ]
    }
   ],
   "source": [
    "# 実行して train / test 用の特徴量を作ります.\n",
    "\n",
    "with Timer(prefix=\"train...\"):\n",
    "    train_feat_df = create_feature(train_df)\n",
    "\n",
    "with Timer(prefix=\"test...\"):\n",
    "    test_feat_df = create_feature(test_df)\n",
    "\n",
    "X = train_feat_df.values\n",
    "y = train_df[\"score\"].values"
   ]
  },
  {
   "cell_type": "markdown",
   "metadata": {},
   "source": [
    "## 学習を行なう\n",
    "\n",
    "特徴量を作成できたので次にモデルの学習を行っていきます。この時大事になるのが交差検証 (Cross Validation) という考え方です。\n",
    "\n",
    "### Cross Validation とは\n",
    "\n",
    "Cross Validation とは学習用のデータセットを複数に分割してそれぞれの分割で学習・検証のデータセットを作り、モデルの性能を見積もる枠組みのことです。\n",
    "\n",
    "### なんで Cross Validation するの?\n",
    "\n",
    "なぜわざわざ分割するの? (そのまま全部学習で使っちゃえばいいじゃない?) と思われるのが普通だと思います。なぜ分割するかというと学習データの中で今の枠組みの性能(枠組みと言っているのは特徴量・モデルの構成もろもろ全部が含まれるためです)を評価したいからです。手元で評価ができないとLBに出してみて一喜一憂するしかなくなり、結果publicLBにオーバーフィットしてしまうのでよろしくないです。\n",
    "\n",
    "仕事的な観点で言ってもLBに出すというのはデプロイ(本番へ反映すること)ですから、本番に出さないとモデルの良し悪しがわからないのはよろしくないですよね?\n",
    "\n",
    "一番ナイーブな戦略は Random と呼ばれるものです。これは何も考えずにとにかくランダムに学習データを分割します。\n",
    "\n",
    "その他にターゲットの分布が同じになるように分割する Stratified と呼ばれる方法もあります。\n",
    "\n",
    "あとは「各分割で特定のグループが重ならないようにする」Group もよく使われます。\n",
    "\n",
    "その他にも時系列で区切る TimeSeriesSplit という方法もあります。\n",
    "\n",
    "### note: どの分割方法がいいの?\n",
    "\n",
    "いろいろと分割方法があると説明しましたが、どの分割方法が一番良いでしょうか。\n",
    "\n",
    "まず良い分割とはなにかを考えてみましょう。良い分割とは今のモデルがテストデータでどのぐらいの性能を出すかを、検証データで確認できる分割です。\n",
    "\n",
    "これはすなわち、分割された学習/検証用データが、全体の学習/テストデータとの対応関係と一致していることといえるでしょう。\n",
    "したがって分割を決める際には学習データとテストデータの関係性をしらべ、それと同じ分割を採用する必要があります。\n",
    "\n",
    "---\n",
    "\n",
    "今回は目的変数の割合を保つように分割する StratifiedKFold を利用します。\n",
    "\n"
   ]
  },
  {
   "cell_type": "code",
   "execution_count": 30,
   "metadata": {},
   "outputs": [],
   "source": [
    "from sklearn.model_selection import StratifiedKFold\n",
    "\n",
    "fold = StratifiedKFold(n_splits=5, shuffle=True, random_state=510)\n",
    "cv = fold.split(X, y)\n",
    "cv = list(cv) # split の返り値は generator なので list 化して何度も iterate できるようにしておく"
   ]
  },
  {
   "cell_type": "code",
   "execution_count": 31,
   "metadata": {},
   "outputs": [],
   "source": [
    "from sklearn.metrics import mean_squared_error\n",
    "\n",
    "def root_mean_squared_error(y_true, y_pred):\n",
    "    \"\"\"mean_squared_error の root (0.5乗)\"\"\"\n",
    "    return mean_squared_error(y_true, y_pred) ** .5"
   ]
  },
  {
   "cell_type": "markdown",
   "metadata": {},
   "source": [
    "## LightGBM による CrossValidation を用いた学習\n",
    "\n",
    "今回は使う機械学習モデルとして lightGBM を使います。lightGBM は以下のような良い性質があります。\n",
    "\n",
    "* GBDT と呼ばれるアルゴリズムの一種でテーブルデータで性能が高いことが知られている\n",
    "* 欠損値が存在している場合にも自然に取り扱えるため特に処理が必要ない\n",
    "* 特徴量のスケールを揃えたりしなくてよい\n",
    "* 特徴重要度をさっと出すことができる\n",
    "+ CPU 環境でも高速に学習・推論が行える\n",
    "\n",
    "ほかにも理由はありますが [u++ さんの 「初手LightGBM」をする7つの理由](https://upura.hatenablog.com/entry/2019/10/29/184617) などが参考になります。"
   ]
  },
  {
   "cell_type": "code",
   "execution_count": 32,
   "metadata": {},
   "outputs": [],
   "source": [
    "import lightgbm as lgbm\n",
    "\n",
    "def fit_lgbm(X, \n",
    "             y, \n",
    "             cv, \n",
    "             params: dict=None, \n",
    "             verbose: int=50):\n",
    "    \"\"\"lightGBM を CrossValidation の枠組みで学習を行なう function\"\"\"\n",
    "\n",
    "    # パラメータがないときは、空の dict で置き換える\n",
    "    if params is None:\n",
    "        params = {}\n",
    "\n",
    "    models = []\n",
    "    n_records = len(X)\n",
    "    # training data の target と同じだけのゼロ配列を用意\n",
    "    oof_pred = np.zeros((n_records, ), dtype=np.float32)\n",
    "\n",
    "    for i, (idx_train, idx_valid) in enumerate(cv): \n",
    "        # この部分が交差検証のところです。データセットを cv instance によって分割します\n",
    "        # training data を trian/valid に分割\n",
    "        x_train, y_train = X[idx_train], y[idx_train]\n",
    "        x_valid, y_valid = X[idx_valid], y[idx_valid]\n",
    "\n",
    "        clf = lgbm.LGBMRegressor(**params)\n",
    "\n",
    "        with Timer(prefix=\"fit fold={} \".format(i)):\n",
    "            \n",
    "            # cv 内で train に定義された x_train で学習する\n",
    "            clf.fit(x_train, y_train, \n",
    "                    eval_set=[(x_valid, y_valid)],  \n",
    "                    early_stopping_rounds=100,\n",
    "                    verbose=verbose)\n",
    "\n",
    "        # cv 内で validation data とされた x_valid で予測をして oof_pred に保存していく\n",
    "        # oof_pred は全部学習に使わなかったデータの予測結果になる → モデルの予測性能を見る指標として利用できる\n",
    "        pred_i = clf.predict(x_valid)\n",
    "        oof_pred[idx_valid] = pred_i\n",
    "        models.append(clf)\n",
    "        score = root_mean_squared_error(y_valid, pred_i)\n",
    "        print(f\" - fold{i + 1} - {score:.4f}\")\n",
    "\n",
    "    score = root_mean_squared_error(y, oof_pred)\n",
    "\n",
    "    print(\"=\" * 50)\n",
    "    print(f\"FINISHI: Whole Score: {score:.4f}\")\n",
    "    return oof_pred, models"
   ]
  },
  {
   "cell_type": "code",
   "execution_count": 33,
   "metadata": {},
   "outputs": [
    {
     "name": "stdout",
     "output_type": "stream",
     "text": [
      "Training until validation scores don't improve for 100 rounds\n",
      "[50]\tvalid_0's rmse: 1.50234\n",
      "[100]\tvalid_0's rmse: 1.49681\n",
      "[150]\tvalid_0's rmse: 1.4944\n",
      "[200]\tvalid_0's rmse: 1.49332\n",
      "[250]\tvalid_0's rmse: 1.49289\n",
      "[300]\tvalid_0's rmse: 1.49263\n",
      "[350]\tvalid_0's rmse: 1.49251\n",
      "[400]\tvalid_0's rmse: 1.49245\n",
      "[450]\tvalid_0's rmse: 1.49242\n",
      "[500]\tvalid_0's rmse: 1.49239\n",
      "[550]\tvalid_0's rmse: 1.49242\n",
      "[600]\tvalid_0's rmse: 1.49243\n",
      "Early stopping, best iteration is:\n",
      "[503]\tvalid_0's rmse: 1.49239\n",
      "fit fold=0  1.572[s]\n",
      " - fold1 - 1.4924\n",
      "Training until validation scores don't improve for 100 rounds\n",
      "[50]\tvalid_0's rmse: 1.49752\n",
      "[100]\tvalid_0's rmse: 1.49207\n",
      "[150]\tvalid_0's rmse: 1.49018\n",
      "[200]\tvalid_0's rmse: 1.48937\n",
      "[250]\tvalid_0's rmse: 1.489\n",
      "[300]\tvalid_0's rmse: 1.48878\n",
      "[350]\tvalid_0's rmse: 1.4887\n",
      "[400]\tvalid_0's rmse: 1.48871\n",
      "[450]\tvalid_0's rmse: 1.48869\n",
      "Early stopping, best iteration is:\n",
      "[353]\tvalid_0's rmse: 1.48869\n",
      "fit fold=1  1.051[s]\n",
      " - fold2 - 1.4887\n",
      "Training until validation scores don't improve for 100 rounds\n",
      "[50]\tvalid_0's rmse: 1.49667\n",
      "[100]\tvalid_0's rmse: 1.4917\n",
      "[150]\tvalid_0's rmse: 1.48957\n",
      "[200]\tvalid_0's rmse: 1.48854\n",
      "[250]\tvalid_0's rmse: 1.48834\n",
      "[300]\tvalid_0's rmse: 1.48836\n",
      "[350]\tvalid_0's rmse: 1.48833\n",
      "Early stopping, best iteration is:\n",
      "[267]\tvalid_0's rmse: 1.48829\n",
      "fit fold=2  2.347[s]\n",
      " - fold3 - 1.4883\n",
      "Training until validation scores don't improve for 100 rounds\n",
      "[50]\tvalid_0's rmse: 1.50107\n",
      "[100]\tvalid_0's rmse: 1.49619\n",
      "[150]\tvalid_0's rmse: 1.49466\n",
      "[200]\tvalid_0's rmse: 1.49395\n",
      "[250]\tvalid_0's rmse: 1.49378\n",
      "[300]\tvalid_0's rmse: 1.49375\n",
      "[350]\tvalid_0's rmse: 1.49378\n",
      "Early stopping, best iteration is:\n",
      "[298]\tvalid_0's rmse: 1.49374\n",
      "fit fold=3  0.781[s]\n",
      " - fold4 - 1.4937\n",
      "Training until validation scores don't improve for 100 rounds\n",
      "[50]\tvalid_0's rmse: 1.50113\n",
      "[100]\tvalid_0's rmse: 1.49724\n",
      "[150]\tvalid_0's rmse: 1.49561\n",
      "[200]\tvalid_0's rmse: 1.49512\n",
      "[250]\tvalid_0's rmse: 1.49517\n",
      "[300]\tvalid_0's rmse: 1.49511\n",
      "[350]\tvalid_0's rmse: 1.49512\n",
      "[400]\tvalid_0's rmse: 1.49517\n",
      "Early stopping, best iteration is:\n",
      "[306]\tvalid_0's rmse: 1.49508\n",
      "fit fold=4  0.728[s]\n",
      " - fold5 - 1.4951\n",
      "==================================================\n",
      "FINISHI: Whole Score: 1.4916\n"
     ]
    }
   ],
   "source": [
    "params = {\n",
    "    # 目的関数. これの意味で最小となるようなパラメータを探します. \n",
    "    \"objective\": \"rmse\", \n",
    "\n",
    "    # 木の最大数. early_stopping という枠組みで木の数は制御されるようにしていますのでとても大きい値を指定しておきます.\n",
    "    \"n_estimators\": 10000, \n",
    "\n",
    "     # 学習率. 小さいほどなめらかな決定境界が作られて性能向上に繋がる場合が多いです、\n",
    "    # がそれだけ木を作るため学習に時間がかかります\n",
    "    \"learning_rate\": .1,\n",
    "\n",
    "    # 特徴重要度計算のロジック(後述)\n",
    "    \"importance_type\": \"gain\", \n",
    "    \"random_state\": 510,\n",
    "}\n",
    "\n",
    "oof, models = fit_lgbm(X, y=y, params=params, cv=cv)"
   ]
  },
  {
   "cell_type": "markdown",
   "metadata": {},
   "source": [
    "## 結果を解釈する\n",
    "\n",
    "モデルができた! 次は予測だ! の前に… 一度予測結果の見積もりを行いましょう。\n",
    "\n",
    "まずは全体の予測性能です。上記でも console.log で出力されていますがこれが今回の学習の枠組み (特徴量 + 学習モデル + ...) の場合の見積もり性能になります。"
   ]
  },
  {
   "cell_type": "code",
   "execution_count": 34,
   "metadata": {},
   "outputs": [
    {
     "data": {
      "text/plain": [
       "1.4916386856838029"
      ]
     },
     "execution_count": 34,
     "metadata": {},
     "output_type": "execute_result"
    }
   ],
   "source": [
    "root_mean_squared_error(y_true=y, y_pred=oof)"
   ]
  },
  {
   "cell_type": "markdown",
   "metadata": {},
   "source": [
    "### Q: 正解ラベルごとの予測値の分布はどうなっているだろうか?"
   ]
  },
  {
   "cell_type": "code",
   "execution_count": 35,
   "metadata": {},
   "outputs": [
    {
     "data": {
      "text/plain": [
       "[<matplotlib.lines.Line2D at 0x7ff4a18bdf90>]"
      ]
     },
     "execution_count": 35,
     "metadata": {},
     "output_type": "execute_result"
    },
    {
     "data": {
      "image/png": "[encoded data removed]",
      "text/plain": [
       "<Figure size 576x576 with 1 Axes>"
      ]
     },
     "metadata": {
      "needs_background": "light"
     },
     "output_type": "display_data"
    }
   ],
   "source": [
    "fig, ax = plt.subplots(figsize=(8, 8))\n",
    "\n",
    "sns.boxenplot(data=pd.DataFrame({ \"GroundTruth\": y, \"OutOfFold Prediction\": oof }), \n",
    "              x=\"GroundTruth\", y=\"OutOfFold Prediction\", ax=ax)\n",
    "\n",
    "ax.grid()\n",
    "ax.plot([0, 9], [1, 10], \"--\", c=\"black\", alpha=.2)"
   ]
  },
  {
   "cell_type": "markdown",
   "metadata": {},
   "source": [
    "* 予測値 (OutOfFold) の平均値は正解ラベル (GroundTruth) の上昇に伴って若干上がっている。\n",
    "* ただ 1,2 や 10 などの極端な値は大きくずれている. "
   ]
  },
  {
   "cell_type": "markdown",
   "metadata": {},
   "source": [
    "## 予測モデルの中身を理解する\n",
    "\n",
    "LightGBM など木系のモデルではどの特徴量で分割を行ってどれだけ目的変数を説明しているかを特徴重要度 (feature importance) として出力することができます。これを見ることで\n",
    "\n",
    "* どの特徴量が大事なのか\n",
    "* どの特徴量はあまり大事ではないか\n",
    "\n",
    "といった特徴量に関する情報を得ることができます。これによって、例えば重要となった特徴量を使う別の特徴を考えたり、反対に大事ではない特徴を削ったりといったインサイトを得ることが可能です。また何故この予測が出てくるかの解釈をする上でも有用です。\n",
    "\n",
    "> note: 今回利用した lightGBM は内部的に特徴の値での IF をたくさん重ねているモデルなので、どの特徴で IF を作っているか + それによって予測性能がどのぐらい改善するかを利用して特徴量ごとの貢献度 (特徴重要度) を算出することができます。"
   ]
  },
  {
   "cell_type": "code",
   "execution_count": 36,
   "metadata": {},
   "outputs": [],
   "source": [
    "def visualize_importance(models, feat_train_df):\n",
    "    \"\"\"lightGBM の model 配列の feature importance を plot する\n",
    "    CVごとのブレを boxen plot として表現します.\n",
    "\n",
    "    args:\n",
    "        models:\n",
    "            List of lightGBM models\n",
    "        feat_train_df:\n",
    "            学習時に使った DataFrame\n",
    "    \"\"\"\n",
    "    feature_importance_df = pd.DataFrame()\n",
    "    for i, model in enumerate(models):\n",
    "        _df = pd.DataFrame()\n",
    "        _df[\"feature_importance\"] = model.feature_importances_\n",
    "        _df[\"column\"] = feat_train_df.columns\n",
    "        _df[\"fold\"] = i + 1\n",
    "        feature_importance_df = pd.concat([feature_importance_df, _df], \n",
    "                                          axis=0, ignore_index=True)\n",
    "\n",
    "    order = feature_importance_df.groupby(\"column\")\\\n",
    "        .sum()[[\"feature_importance\"]]\\\n",
    "        .sort_values(\"feature_importance\", ascending=False).index[:50]\n",
    "\n",
    "    fig, ax = plt.subplots(figsize=(12, max(6, len(order) * .25)))\n",
    "    sns.boxenplot(data=feature_importance_df, \n",
    "                  x=\"feature_importance\", \n",
    "                  y=\"column\", \n",
    "                  order=order, \n",
    "                  ax=ax, \n",
    "                  palette=\"viridis\", \n",
    "                  orient=\"h\")\n",
    "    ax.tick_params(axis=\"x\", rotation=90)\n",
    "    ax.set_title(\"Importance\")\n",
    "    ax.grid()\n",
    "    fig.tight_layout()\n",
    "    return fig, ax"
   ]
  },
  {
   "cell_type": "code",
   "execution_count": 37,
   "metadata": {},
   "outputs": [
    {
     "data": {
      "image/png": "[encoded data removed]",
      "text/plain": [
       "<Figure size 864x432 with 1 Axes>"
      ]
     },
     "metadata": {
      "needs_background": "light"
     },
     "output_type": "display_data"
    }
   ],
   "source": [
    "fig, ax = visualize_importance(models, train_feat_df)"
   ]
  },
  {
   "cell_type": "markdown",
   "metadata": {},
   "source": [
    "* 特徴重要度でいうと `members` の重みが最も大きいようです。人気なアニメは評価が高くなったりする影響かも?\n",
    "    * [@Masapichi さんの BIで手軽に！ Trainデータから人気作品を調べる](https://www.guruguru.science/competitions/21/discussions/55e578cd-65e2-4677-bd79-5b06d5726394/)なども参考になるかもしれません.\n",
    "* アニメの種類でいうと Movie が最も影響度が大きいです。映画版は見に行く人が限られていて高評価をつけやすい?などの傾向があるのかもしれません。\n",
    "* 他の特徴量を入れたときも特徴量重要度を見て、特徴量とユーザー評価の関係の気持ちを汲み取ってみてください。"
   ]
  },
  {
   "cell_type": "markdown",
   "metadata": {},
   "source": [
    "## 推論する\n",
    "\n",
    "最後に、学習したモデルを使って予測値への推論を作りましょう。今回 5Fold で学習しましたので5個分のモデルができていますので、その予測平均を使います。"
   ]
  },
  {
   "cell_type": "code",
   "execution_count": 38,
   "metadata": {},
   "outputs": [],
   "source": [
    "# k 個のモデルの予測を作成. shape = (5, N_test,).\n",
    "pred = np.array([model.predict(test_feat_df.values) for model in models])\n",
    "\n",
    "# k 個のモデルの予測値の平均 shape = (N_test,).\n",
    "pred = np.mean(pred, axis=0) # axis=0 なので shape の `k` が潰れる "
   ]
  },
  {
   "cell_type": "markdown",
   "metadata": {},
   "source": [
    "## 予測結果の確認\n",
    "\n",
    "テストデータへの予測結果の分布が、学習時に作った予測値 out of fold とずれていないか、を確認することを忘れないようにしてください。これが大きくずれている場合には、学習時の特徴量分布とテスト時の特徴量分布が異なっていることになりますので、その異なりは妥当かどうかを考える必要があります。\n",
    "\n",
    "問題の構造上分布がずれることはしょうがない、という問題なら良いのですが、そうでないのにズレが発生する場合には、学習時の特徴量作成コードとテスト時の学習コードがずれいているなどのミスを疑う、などの対応が必要でしょう。(もっともこの場合 submit してスコアがでないのですぐわかりますが…)"
   ]
  },
  {
   "cell_type": "code",
   "execution_count": 39,
   "metadata": {
    "scrolled": false
   },
   "outputs": [
    {
     "data": {
      "image/png": "[encoded data removed]",
      "text/plain": [
       "<Figure size 576x432 with 1 Axes>"
      ]
     },
     "metadata": {
      "needs_background": "light"
     },
     "output_type": "display_data"
    }
   ],
   "source": [
    "fig, ax = plt.subplots(figsize=(8, 6))\n",
    "\n",
    "vmax = .02\n",
    "bins = np.linspace(0, 10, 100)\n",
    "ax.hist(pred, bins=bins, density=True, alpha=.5, label=\"Test\")\n",
    "ax.hist(oof, bins=bins, density=True, alpha=.5, label=\"OutOfFold\")\n",
    "ax.grid()\n",
    "ax.legend()\n",
    "# ax.set_title(\"テストと学習時の予測傾向差分\")\n",
    "\n",
    "fig.tight_layout()"
   ]
  },
  {
   "cell_type": "code",
   "execution_count": 40,
   "metadata": {},
   "outputs": [],
   "source": [
    "pd.DataFrame({\n",
    "    \"score\": pred\n",
    "}).to_csv(os.path.join(OUTPUT_DIR, \"#1__submission.csv\"), index=False)"
   ]
  }
 ],
 "metadata": {
  "kernelspec": {
   "display_name": "Python 3",
   "language": "python",
   "name": "python3"
  },
  "language_info": {
   "codemirror_mode": {
    "name": "ipython",
    "version": 3
   },
   "file_extension": ".py",
   "mimetype": "text/x-python",
   "name": "python",
   "nbconvert_exporter": "python",
   "pygments_lexer": "ipython3",
   "version": "3.7.7"
  }
 },
 "nbformat": 4,
 "nbformat_minor": 4
}
