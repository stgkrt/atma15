{
 "cells": [
  {
   "cell_type": "code",
   "execution_count": 10,
   "metadata": {},
   "outputs": [],
   "source": [
    "import os\n",
    "\n",
    "import pandas as pd\n",
    "import numpy as np\n",
    "from surprise import Dataset, Reader, SVDpp\n",
    "from surprise.model_selection import cross_validate\n",
    "\n",
    "from sklearn.model_selection import StratifiedGroupKFold "
   ]
  },
  {
   "cell_type": "code",
   "execution_count": 11,
   "metadata": {},
   "outputs": [],
   "source": [
    "EXP_NAME = \"svdpp_pred\"\n",
    "class configs:\n",
    "    OUTPUT_DIR = os.path.join(\"/workspace\", \"working\", EXP_NAME)\n",
    "    INPUT_DIR = os.path.join(\"/workspace\", \"input\", \"atmaCup15_dataset\")\n",
    "    TRAIN_CSV = os.path.join(INPUT_DIR, \"train_stratifiedgroupkfold.csv\")\n",
    "    ANIME_CSV = os.path.join(INPUT_DIR, \"anime.csv\")\n",
    "    TEST_CSV = os.path.join(INPUT_DIR, \"test.csv\")\n",
    "    SAMPLE_SUB_CSV = os.path.join(INPUT_DIR, \"sample_submission.csv\")\n",
    "    SEED = 42"
   ]
  },
  {
   "cell_type": "code",
   "execution_count": 12,
   "metadata": {},
   "outputs": [],
   "source": [
    "# The Reader object helps in parsing the file or dataframe\n",
    "reader = Reader(rating_scale=(1, 10))\n",
    "\n",
    "# Load the dataset\n",
    "train_df = pd.read_csv('/workspace/input/atmaCup15_dataset/train.csv')\n",
    "\n",
    "train_data = Dataset.load_from_df(train_df[['user_id', 'anime_id', 'score']], reader)"
   ]
  },
  {
   "cell_type": "code",
   "execution_count": 13,
   "metadata": {},
   "outputs": [],
   "source": [
    "# Create the dataset to be used for building the filter\n",
    "train_data = Dataset.load_from_df(train_df[['user_id', 'anime_id', 'score']], reader)\n",
    "\n",
    "# Retrieve the trainset.\n",
    "train_data = train_data.build_full_trainset()\n",
    "\n",
    "# Build an algorithm, and train it.\n",
    "algo = SVDpp()\n",
    "_ = algo.fit(train_data)"
   ]
  },
  {
   "cell_type": "code",
   "execution_count": 14,
   "metadata": {},
   "outputs": [],
   "source": [
    "# Load the test dataset\n",
    "test_df = pd.read_csv('/workspace/input/atmaCup15_dataset/test.csv')\n",
    "test_df['score'] = 0\n",
    "\n",
    "# Convert the test dataset to the surprise format\n",
    "test_set = Dataset.load_from_df(test_df, reader).build_full_trainset().build_testset()\n",
    "\n",
    "# Predict ratings for the testset\n",
    "predictions = algo.test(test_set)\n",
    "\n",
    "submission = pd.read_csv('/workspace/input/atmaCup15_dataset/sample_submission.csv')\n",
    "\n",
    "# Extract the predicted ratings and add them to the test dataframe\n",
    "submission['score'] = [pred.est for pred in predictions]\n",
    "\n",
    "sub_path = os.path.join(configs.OUTPUT_DIR, \"submission.csv\")\n",
    "submission.to_csv(sub_path, index=False)"
   ]
  },
  {
   "cell_type": "code",
   "execution_count": null,
   "metadata": {},
   "outputs": [],
   "source": []
  }
 ],
 "metadata": {
  "kernelspec": {
   "display_name": "base",
   "language": "python",
   "name": "python3"
  },
  "language_info": {
   "codemirror_mode": {
    "name": "ipython",
    "version": 3
   },
   "file_extension": ".py",
   "mimetype": "text/x-python",
   "name": "python",
   "nbconvert_exporter": "python",
   "pygments_lexer": "ipython3",
   "version": "3.10.10"
  },
  "orig_nbformat": 4
 },
 "nbformat": 4,
 "nbformat_minor": 2
}
